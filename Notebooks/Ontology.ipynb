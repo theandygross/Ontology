{
 "metadata": {
  "name": "",
  "signature": "sha256:6bb014cf797bf53bdb479bf403ad7eb77d3c13b2914f0cb3a5a66d625670a8d6"
 },
 "nbformat": 3,
 "nbformat_minor": 0,
 "worksheets": [
  {
   "cells": [
    {
     "cell_type": "heading",
     "level": 1,
     "metadata": {},
     "source": [
      "Ontology Data Structure Development"
     ]
    },
    {
     "cell_type": "code",
     "collapsed": false,
     "input": [
      "%pylab inline"
     ],
     "language": "python",
     "metadata": {},
     "outputs": [
      {
       "output_type": "stream",
       "stream": "stdout",
       "text": [
        "Populating the interactive namespace from numpy and matplotlib\n"
       ]
      }
     ],
     "prompt_number": 2
    },
    {
     "cell_type": "code",
     "collapsed": false,
     "input": [
      "cd ../src"
     ],
     "language": "python",
     "metadata": {},
     "outputs": [
      {
       "output_type": "stream",
       "stream": "stdout",
       "text": [
        "/cellar/users/agross/TCGA_Code/Ontology/src\n"
       ]
      }
     ],
     "prompt_number": 3
    },
    {
     "cell_type": "code",
     "collapsed": false,
     "input": [
      "import pandas as pd"
     ],
     "language": "python",
     "metadata": {},
     "outputs": [],
     "prompt_number": 4
    },
    {
     "cell_type": "code",
     "collapsed": false,
     "input": [
      "go_file = '../../Ontology/Data/gene_ontology.1_2.obo.txt'"
     ],
     "language": "python",
     "metadata": {},
     "outputs": [],
     "prompt_number": 5
    },
    {
     "cell_type": "code",
     "collapsed": false,
     "input": [
      "go = open(go_file, 'rb').readlines()\n",
      "go = map(str.strip, go)"
     ],
     "language": "python",
     "metadata": {},
     "outputs": [],
     "prompt_number": 6
    },
    {
     "cell_type": "code",
     "collapsed": false,
     "input": [
      "term_starts = array([i for i,l in enumerate(go) if l == '[Term]'])\n",
      "new_lines = array([i for i,l in enumerate(go) if l == ''])"
     ],
     "language": "python",
     "metadata": {},
     "outputs": [],
     "prompt_number": 7
    },
    {
     "cell_type": "code",
     "collapsed": false,
     "input": [
      "def fix_idx(s):\n",
      "    return pd.Series({i: v for i,v in enumerate(s)})"
     ],
     "language": "python",
     "metadata": {},
     "outputs": [],
     "prompt_number": 8
    },
    {
     "cell_type": "code",
     "collapsed": false,
     "input": [
      "term_dict"
     ],
     "language": "python",
     "metadata": {},
     "outputs": [
      {
       "metadata": {},
       "output_type": "pyout",
       "prompt_number": 10,
       "text": [
        "def        0    \"The distribution of mitochondria, including t...\n",
        "id         0                                           GO:0000001\n",
        "is_a       0                   GO:0048308 ! organelle inheritance\n",
        "           1              GO:0048311 ! mitochondrion distribution\n",
        "name       0                            mitochondrion inheritance\n",
        "namespace  0                                   biological_process\n",
        "synonym    0                 \"mitochondrial inheritance\" EXACT []\n",
        "dtype: object"
       ]
      }
     ],
     "prompt_number": 10
    },
    {
     "cell_type": "code",
     "collapsed": false,
     "input": [
      "terms = []\n",
      "for t in term_starts:\n",
      "    term_end = min(new_lines[new_lines > t])\n",
      "    term_body = go[t+1:term_end]\n",
      "    split = lambda l: l.split(': ', 1)\n",
      "    term_dict = [(l[1], l[0]) for l in map(split, term_body)]\n",
      "    term_dict = pd.Series(*zip(*term_dict))\n",
      "    term_dict = pd.concat({i: fix_idx(v) for i,v in term_dict.groupby(level=0)})\n",
      "    if 'is_obsolete' not in term_dict:\n",
      "        terms += [term_dict]\n",
      "#terms = pd.DataFrame(terms)\n",
      "#terms = terms.set_index(['id','name'], drop=False)\n",
      "#terms = terms[(terms.is_obsolete != 'true')]"
     ],
     "language": "python",
     "metadata": {},
     "outputs": [],
     "prompt_number": 11
    },
    {
     "cell_type": "code",
     "collapsed": false,
     "input": [
      "t = pd.DataFrame(terms)\n",
      "t2 = t[['def','id','is_a','name','namespace','relationship',\n",
      "        'subset']]\n",
      "t2 = t2.set_index([('id',0), ('name',0)])\n",
      "t2.index.names = ['id','name']"
     ],
     "language": "python",
     "metadata": {},
     "outputs": [],
     "prompt_number": 14
    },
    {
     "cell_type": "code",
     "collapsed": false,
     "input": [
      "from scipy import stats\n",
      "\n",
      "def fisher_exact_test(hit_vec, response_vec, alternative='two-sided'):\n",
      "    \"\"\"\n",
      "    Wrapper to do a fischer's exact test on pandas Series\n",
      "    ------------------------------------------------\n",
      "    hit_vec: Series of labels (boolean, or (0,1))\n",
      "    response_vec: Series of measurements (boolean, or (0,1))\n",
      "    \"\"\"\n",
      "    cont_table = pd.crosstab(hit_vec, response_vec)\n",
      "    if cont_table.shape != (2, 2):\n",
      "        return pd.Series(index=['odds_ratio', 'p'])\n",
      "    return pd.Series(stats.fisher_exact(cont_table, alternative), index=['odds_ratio', 'p'])\n",
      "\n",
      "def chi2_cont_test(hit_vec, response_vec):\n",
      "    \"\"\"\n",
      "    Wrapper to do a fischer's exact test on pandas Series\n",
      "    ------------------------------------------------\n",
      "    hit_vec: Series of labels (boolean, or (0,1))\n",
      "    response_vec: Series of measurements (boolean, or (0,1))\n",
      "    \"\"\"\n",
      "    cont_table = pd.crosstab(hit_vec, response_vec)\n",
      "    return pd.Series(stats.chi2_contingency(cont_table)[:3], index=['chi2', 'p', 'dof'])"
     ],
     "language": "python",
     "metadata": {},
     "outputs": [],
     "prompt_number": 15
    },
    {
     "cell_type": "code",
     "collapsed": false,
     "input": [
      "class Node(object):\n",
      "    def __init__(self, node_id, name, attributes={}):\n",
      "        self.id = node_id\n",
      "        self.name = name\n",
      "        self.attributes = attributes\n",
      "        self.ontology = None\n",
      "        \n",
      "    def get_parents(self):\n",
      "        return self.ontology.get_parents(self)\n",
      "    \n",
      "    def get_children(self):\n",
      "        if not hasattr(self, 'children'):\n",
      "            self.children = self.ontology.get_children(self)\n",
      "        return self.children\n",
      "            \n",
      "    \n",
      "    def get_descendents(self):\n",
      "        if not hasattr(self, 'descendents'):\n",
      "            children = self.get_children()\n",
      "            if len(children) == 0:\n",
      "                return pd.Series({self.id: self})\n",
      "            else:\n",
      "                descendents = pd.concat([c.get_descendents() for c in children])\n",
      "                descendents[self.id] = self\n",
      "            self.descendents = descendents\n",
      "        return self.descendents\n",
      "    \n",
      "    def get_genes(self):\n",
      "        if not hasattr(self, 'genes'):\n",
      "             self.genes = self.ontology.get_genes(self)\n",
      "        return self.genes\n",
      "    \n",
      "    def get_enrichment(self, hit_vec):\n",
      "        return self.ontology.get_enrichment(self, hit_vec)\n",
      "        \n",
      "    def __repr__(self):\n",
      "        return self.name\n",
      "    \n",
      "    def __eq__(self, other): \n",
      "        return self.id == other.id\n",
      "    \n",
      "class Edge(object):\n",
      "    def __init__(self, parent, child):\n",
      "        self.parent = parent\n",
      "        self.child = child\n",
      "        \n",
      "    def __repr__(self):\n",
      "        s = '''{} -->  {}'''.format(self.parent.name, self.child.name)\n",
      "        return s\n",
      "    \n",
      "class Ontology(object):\n",
      "    '''\n",
      "    Class for storing meta-information about an ontology.\n",
      "    '''\n",
      "    def __init__(self, nodes, edges, gene_map):\n",
      "        self.nodes = nodes\n",
      "        self.edges = edges\n",
      "        self.gene_map = gene_map\n",
      "        self.background = gene_map.Gene.unique()\n",
      "        \n",
      "        for node in nodes:\n",
      "            node.ontology = self\n",
      "        \n",
      "    def get_parents(self, node):\n",
      "        if node.id in self.edges.index.get_level_values(1):\n",
      "            return pd.Series({e.parent.id: e.parent for e in self.edges[:,node.id]})\n",
      "        else:\n",
      "            return pd.Series()\n",
      "    \n",
      "    def get_children(self, node):\n",
      "        if node.id in self.edges.index.get_level_values(0):\n",
      "            return pd.Series({e.child.id: e.child for e in self.edges[node.id]})\n",
      "        else:\n",
      "            return pd.Series()\n",
      "        \n",
      "    def get_genes(self, node):\n",
      "        descendents = node.get_descendents()\n",
      "        genes = self.gene_map[self.gene_map.GO.isin(descendents.index)].Gene.unique()\n",
      "        return genes\n",
      "        \n",
      "    def get_enrichment(self, node, hit_vec):    \n",
      "        background = hit_vec.index.intersection(self.background)\n",
      "        hit_vec = hit_vec.ix[background]\n",
      "        \n",
      "        genes = node.get_genes() \n",
      "        node_vec = pd.Series(1, index=genes).ix[background].fillna(0)\n",
      "        \n",
      "        stats = pd.Series({'N': len(background), 'B': len(genes), 'n': sum(hit_vec),\n",
      "                           'b': sum((hit_vec > 0) & (node_vec > 0))})\n",
      "        \n",
      "        test = chi2_cont_test(node_vec, hit_vec)\n",
      "        r = pd.concat([stats, test], keys=['stats','test'])\n",
      "        return r"
     ],
     "language": "python",
     "metadata": {},
     "outputs": [],
     "prompt_number": 16
    },
    {
     "cell_type": "code",
     "collapsed": false,
     "input": [
      "gene_map = pd.read_table('../../Ontology/Data/gene_association.goa_human', skiprows=31, low_memory=False, header=None)\n",
      "gene_map = gene_map[[2,4]].drop_duplicates()\n",
      "gene_map.columns = ['Gene','GO']"
     ],
     "language": "python",
     "metadata": {},
     "outputs": [],
     "prompt_number": 20
    },
    {
     "cell_type": "code",
     "collapsed": false,
     "input": [
      "nodes = pd.Series({n[0]: Node(n[0], n[1], t.dropna()) for n,t in t2.iterrows()})\n",
      "is_a = t2.is_a.stack()\n",
      "edges = [Edge(nodes[v.split()[0]], nodes[i[0]]) for i,v in is_a.iteritems()]\n",
      "edges = pd.Series({(e.parent.id, e.child.id): e for e in edges})\n",
      "edges.index = pd.MultiIndex.from_tuples(edges.index)\n",
      "ontology = Ontology(nodes, edges, gene_map)"
     ],
     "language": "python",
     "metadata": {},
     "outputs": [],
     "prompt_number": 21
    },
    {
     "cell_type": "code",
     "collapsed": false,
     "input": [
      "#nn = pd.Series({i:len(n.get_genes()) for i,n in nodes.iteritems()})\n",
      "#nn.to_csv('Data/term_gene_counts.csv')"
     ],
     "language": "python",
     "metadata": {},
     "outputs": [],
     "prompt_number": 22
    },
    {
     "cell_type": "code",
     "collapsed": false,
     "input": [
      "g = pd.read_table('/cellar/users/agross/Downloads/tmp.txt', header=None, squeeze=True)\n",
      "g = pd.Series(1, g[:500]).ix[g].fillna(0)"
     ],
     "language": "python",
     "metadata": {},
     "outputs": [],
     "prompt_number": 23
    },
    {
     "cell_type": "code",
     "collapsed": false,
     "input": [
      "%%time\n",
      "node = nodes['GO:0000278']\n",
      "r = node.get_enrichment(g)"
     ],
     "language": "python",
     "metadata": {},
     "outputs": [
      {
       "output_type": "stream",
       "stream": "stdout",
       "text": [
        "CPU times: user 112 ms, sys: 0 ns, total: 112 ms\n",
        "Wall time: 112 ms\n"
       ]
      }
     ],
     "prompt_number": 24
    },
    {
     "cell_type": "markdown",
     "metadata": {},
     "source": [
      "Takes ~9 min first run."
     ]
    },
    {
     "cell_type": "code",
     "collapsed": false,
     "input": [
      "%time nn = pd.Series({i:len(n.get_genes()) for i,n in nodes.iteritems()})"
     ],
     "language": "python",
     "metadata": {},
     "outputs": [
      {
       "output_type": "stream",
       "stream": "stdout",
       "text": [
        "CPU times: user 9min 44s, sys: 212 ms, total: 9min 45s\n",
        "Wall time: 9min 45s\n"
       ]
      }
     ],
     "prompt_number": 25
    },
    {
     "cell_type": "code",
     "collapsed": false,
     "input": [
      "nodes = ontology.nodes.ix[nn[(nn > 100)].index]\n",
      "len(nodes)"
     ],
     "language": "python",
     "metadata": {},
     "outputs": [
      {
       "metadata": {},
       "output_type": "pyout",
       "prompt_number": 26,
       "text": [
        "1532"
       ]
      }
     ],
     "prompt_number": 26
    },
    {
     "cell_type": "code",
     "collapsed": false,
     "input": [
      "redundant = pd.Series({n.id: set(n.get_parents().iloc[0].genes) == set(n.genes)\n",
      "                       for n in nodes if len(n.get_parents() > 0)})"
     ],
     "language": "python",
     "metadata": {},
     "outputs": [],
     "prompt_number": 27
    },
    {
     "cell_type": "code",
     "collapsed": false,
     "input": [
      "redundant.value_counts()"
     ],
     "language": "python",
     "metadata": {},
     "outputs": [
      {
       "metadata": {},
       "output_type": "pyout",
       "prompt_number": 28,
       "text": [
        "False    1504\n",
        "True       25\n",
        "dtype: int64"
       ]
      }
     ],
     "prompt_number": 28
    },
    {
     "cell_type": "code",
     "collapsed": false,
     "input": [
      "len(nodes)"
     ],
     "language": "python",
     "metadata": {},
     "outputs": [
      {
       "metadata": {},
       "output_type": "pyout",
       "prompt_number": 29,
       "text": [
        "1532"
       ]
      }
     ],
     "prompt_number": 29
    },
    {
     "cell_type": "code",
     "collapsed": false,
     "input": [
      "%%time\n",
      "r = pd.DataFrame({n.id: n.get_enrichment(g) for n in nodes}).T"
     ],
     "language": "python",
     "metadata": {},
     "outputs": [
      {
       "output_type": "stream",
       "stream": "stdout",
       "text": [
        "CPU times: user 30.2 s, sys: 20 ms, total: 30.2 s\n",
        "Wall time: 30.2 s\n"
       ]
      }
     ],
     "prompt_number": 432
    },
    {
     "cell_type": "code",
     "collapsed": false,
     "input": [
      "ann = pd.Series({i: nodes.ix[i].name for i in r.index})\n",
      "r['name'] = ann\n",
      "r = r.sort([('test','p')])\n",
      "r.head()"
     ],
     "language": "python",
     "metadata": {},
     "outputs": [
      {
       "html": [
        "<div style=\"max-height:1000px;max-width:1500px;overflow:auto;\">\n",
        "<table border=\"1\" class=\"dataframe\">\n",
        "  <thead>\n",
        "    <tr>\n",
        "      <th></th>\n",
        "      <th colspan=\"4\" halign=\"left\">stats</th>\n",
        "      <th colspan=\"3\" halign=\"left\">test</th>\n",
        "      <th>name</th>\n",
        "    </tr>\n",
        "    <tr>\n",
        "      <th></th>\n",
        "      <th>B</th>\n",
        "      <th>N</th>\n",
        "      <th>b</th>\n",
        "      <th>n</th>\n",
        "      <th>chi2</th>\n",
        "      <th>p</th>\n",
        "      <th>dof</th>\n",
        "      <th></th>\n",
        "    </tr>\n",
        "  </thead>\n",
        "  <tbody>\n",
        "    <tr>\n",
        "      <th>GO:0000278</th>\n",
        "      <td> 406</td>\n",
        "      <td> 16722</td>\n",
        "      <td>  76</td>\n",
        "      <td> 444</td>\n",
        "      <td> 432.49</td>\n",
        "      <td> 4.66e-96</td>\n",
        "      <td> 1</td>\n",
        "      <td> mitotic cell cycle</td>\n",
        "    </tr>\n",
        "    <tr>\n",
        "      <th>GO:0022402</th>\n",
        "      <td> 969</td>\n",
        "      <td> 16722</td>\n",
        "      <td> 118</td>\n",
        "      <td> 444</td>\n",
        "      <td> 395.51</td>\n",
        "      <td> 5.23e-88</td>\n",
        "      <td> 1</td>\n",
        "      <td> cell cycle process</td>\n",
        "    </tr>\n",
        "    <tr>\n",
        "      <th>GO:0007049</th>\n",
        "      <td> 603</td>\n",
        "      <td> 16722</td>\n",
        "      <td>  86</td>\n",
        "      <td> 444</td>\n",
        "      <td> 343.72</td>\n",
        "      <td> 9.90e-77</td>\n",
        "      <td> 1</td>\n",
        "      <td>         cell cycle</td>\n",
        "    </tr>\n",
        "    <tr>\n",
        "      <th>GO:0000280</th>\n",
        "      <td> 330</td>\n",
        "      <td> 16722</td>\n",
        "      <td>  61</td>\n",
        "      <td> 444</td>\n",
        "      <td> 341.68</td>\n",
        "      <td> 2.75e-76</td>\n",
        "      <td> 1</td>\n",
        "      <td>   nuclear division</td>\n",
        "    </tr>\n",
        "    <tr>\n",
        "      <th>GO:0048285</th>\n",
        "      <td> 356</td>\n",
        "      <td> 16722</td>\n",
        "      <td>  61</td>\n",
        "      <td> 444</td>\n",
        "      <td> 312.61</td>\n",
        "      <td> 5.89e-70</td>\n",
        "      <td> 1</td>\n",
        "      <td>  organelle fission</td>\n",
        "    </tr>\n",
        "  </tbody>\n",
        "</table>\n",
        "<p>5 rows \u00d7 8 columns</p>\n",
        "</div>"
       ],
       "metadata": {},
       "output_type": "pyout",
       "prompt_number": 433,
       "text": [
        "            stats                     test                               name\n",
        "                B      N    b    n    chi2         p  dof                    \n",
        "GO:0000278    406  16722   76  444  432.49  4.66e-96    1  mitotic cell cycle\n",
        "GO:0022402    969  16722  118  444  395.51  5.23e-88    1  cell cycle process\n",
        "GO:0007049    603  16722   86  444  343.72  9.90e-77    1          cell cycle\n",
        "GO:0000280    330  16722   61  444  341.68  2.75e-76    1    nuclear division\n",
        "GO:0048285    356  16722   61  444  312.61  5.89e-70    1   organelle fission\n",
        "\n",
        "[5 rows x 8 columns]"
       ]
      }
     ],
     "prompt_number": 433
    },
    {
     "cell_type": "code",
     "collapsed": false,
     "input": [
      "def get_enrichment_context(self, node, parent, hit_vec):    \n",
      "    #parent = node.get_parents().iloc[0]\n",
      "    background = hit_vec.index.intersection(parent.genes)\n",
      "    hit_vec = hit_vec.ix[background]\n",
      "    \n",
      "    genes = node.get_genes() \n",
      "    node_vec = pd.Series(1, index=genes).ix[background].fillna(0)\n",
      "    \n",
      "    stats = pd.Series({'N': len(background), 'B': len(genes), 'n': sum(hit_vec),\n",
      "                       'b': sum((hit_vec > 0) & (node_vec > 0))})\n",
      "    \n",
      "    test = chi2_cont_test(node_vec, hit_vec)\n",
      "    r = pd.concat([stats, test], keys=['stats','test'])\n",
      "    return r"
     ],
     "language": "python",
     "metadata": {},
     "outputs": [],
     "prompt_number": 434
    },
    {
     "cell_type": "code",
     "collapsed": false,
     "input": [
      "frac = pd.read_clipboard(index_col=0, header=None, squeeze=True)"
     ],
     "language": "python",
     "metadata": {},
     "outputs": [],
     "prompt_number": 452
    },
    {
     "cell_type": "code",
     "collapsed": false,
     "input": [
      "def get_enrichment_context_anova(node, parent, response_vec):    \n",
      "    #parent = node.get_parents().iloc[0]\n",
      "    background = response_vec.index.intersection(parent.genes)\n",
      "    response_vec = response_vec.ix[background]\n",
      "    \n",
      "    genes = node.get_genes() \n",
      "    node_vec = pd.Series(1, index=genes).ix[background].fillna(0)\n",
      "    \n",
      "    stats = pd.Series({'N': len(background), 'B': len(genes)})\n",
      "    \n",
      "    test = kruskal_pandas(node_vec, response_vec)\n",
      "    r = pd.concat([stats, test], keys=['stats','test'])\n",
      "    return r"
     ],
     "language": "python",
     "metadata": {},
     "outputs": [],
     "prompt_number": 465
    },
    {
     "cell_type": "code",
     "collapsed": false,
     "input": [
      "n.get_parents()"
     ],
     "language": "python",
     "metadata": {},
     "outputs": [
      {
       "metadata": {},
       "output_type": "pyout",
       "prompt_number": 468,
       "text": [
        "GO:0044446    intracellular organelle part\n",
        "dtype: object"
       ]
      }
     ],
     "prompt_number": 468
    },
    {
     "cell_type": "code",
     "collapsed": false,
     "input": [
      "r4 = pd.DataFrame({(n.id, p.id): get_enrichment_context_anova(n, p, frac) \n",
      "                   for n in nodes for p in n.get_parents()}).T\n",
      "r4.index = pd.MultiIndex.from_tuples(r4.index)"
     ],
     "language": "python",
     "metadata": {},
     "outputs": [],
     "prompt_number": 479
    },
    {
     "cell_type": "code",
     "collapsed": false,
     "input": [
      "nodes.ix['GO:0044422'], nodes.ix['GO:0005575']"
     ],
     "language": "python",
     "metadata": {},
     "outputs": [
      {
       "metadata": {},
       "output_type": "pyout",
       "prompt_number": 483,
       "text": [
        "(organelle part, cellular_component)"
       ]
      }
     ],
     "prompt_number": 483
    },
    {
     "cell_type": "code",
     "collapsed": false,
     "input": [
      "n1 = pd.Series({i: nodes.ix[i[0]].name for i in r4.index}, name='child')\n",
      "n2 = pd.Series({i: nodes.ix[i[1]].name for i in r4.index}, name='parent')\n",
      "r4 = r4.sort([('test','p')]).join(n1).join(n2)"
     ],
     "language": "python",
     "metadata": {},
     "outputs": [],
     "prompt_number": 488
    },
    {
     "cell_type": "code",
     "collapsed": false,
     "input": [
      "n.get_children()"
     ],
     "language": "python",
     "metadata": {},
     "outputs": [
      {
       "metadata": {},
       "output_type": "pyout",
       "prompt_number": 508,
       "text": [
        "GO:0072686    mitotic spindle\n",
        "GO:0072687    meiotic spindle\n",
        "dtype: object"
       ]
      }
     ],
     "prompt_number": 508
    },
    {
     "cell_type": "code",
     "collapsed": false,
     "input": [
      "r4.ix[n.id]"
     ],
     "language": "python",
     "metadata": {},
     "outputs": [
      {
       "html": [
        "<div style=\"max-height:1000px;max-width:1500px;overflow:auto;\">\n",
        "<table border=\"1\" class=\"dataframe\">\n",
        "  <thead>\n",
        "    <tr style=\"text-align: right;\">\n",
        "      <th></th>\n",
        "      <th>(stats, B)</th>\n",
        "      <th>(stats, N)</th>\n",
        "      <th>(test, H)</th>\n",
        "      <th>(test, p)</th>\n",
        "      <th>child</th>\n",
        "      <th>parent</th>\n",
        "    </tr>\n",
        "  </thead>\n",
        "  <tbody>\n",
        "    <tr>\n",
        "      <th>GO:0044430</th>\n",
        "      <td> 136</td>\n",
        "      <td> 1264</td>\n",
        "      <td> 23.85</td>\n",
        "      <td> 1.04e-06</td>\n",
        "      <td> spindle</td>\n",
        "      <td>                            cytoskeletal part</td>\n",
        "    </tr>\n",
        "    <tr>\n",
        "      <th>GO:0043234</th>\n",
        "      <td> 136</td>\n",
        "      <td> 3521</td>\n",
        "      <td> 18.19</td>\n",
        "      <td> 2.00e-05</td>\n",
        "      <td> spindle</td>\n",
        "      <td>                              protein complex</td>\n",
        "    </tr>\n",
        "    <tr>\n",
        "      <th>GO:0043232</th>\n",
        "      <td> 136</td>\n",
        "      <td> 2923</td>\n",
        "      <td> 11.05</td>\n",
        "      <td> 8.89e-04</td>\n",
        "      <td> spindle</td>\n",
        "      <td> intracellular non-membrane-bounded organelle</td>\n",
        "    </tr>\n",
        "  </tbody>\n",
        "</table>\n",
        "<p>3 rows \u00d7 6 columns</p>\n",
        "</div>"
       ],
       "metadata": {},
       "output_type": "pyout",
       "prompt_number": 506,
       "text": [
        "            (stats, B)  (stats, N)  (test, H)  (test, p)    child                                        parent\n",
        "GO:0044430         136        1264      23.85   1.04e-06  spindle                             cytoskeletal part\n",
        "GO:0043234         136        3521      18.19   2.00e-05  spindle                               protein complex\n",
        "GO:0043232         136        2923      11.05   8.89e-04  spindle  intracellular non-membrane-bounded organelle\n",
        "\n",
        "[3 rows x 6 columns]"
       ]
      }
     ],
     "prompt_number": 506
    },
    {
     "cell_type": "code",
     "collapsed": false,
     "input": [
      "ontology.edges.ix[n.id]\n",
      "n.get_children()"
     ],
     "language": "python",
     "metadata": {},
     "outputs": [
      {
       "metadata": {},
       "output_type": "pyout",
       "prompt_number": 511,
       "text": [
        "GO:0072686    mitotic spindle\n",
        "GO:0072687    meiotic spindle\n",
        "dtype: object"
       ]
      }
     ],
     "prompt_number": 511
    },
    {
     "cell_type": "code",
     "collapsed": false,
     "input": [
      "r4.ix[n.id]"
     ],
     "language": "python",
     "metadata": {},
     "outputs": []
    },
    {
     "cell_type": "code",
     "collapsed": false,
     "input": [
      "n = nodes.ix['GO:0005819']\n",
      "pd.concat([r4.ix[n.id], r4.ix[:,n.id]])"
     ],
     "language": "python",
     "metadata": {},
     "outputs": [
      {
       "ename": "KeyError",
       "evalue": "'GO:0005819'",
       "output_type": "pyerr",
       "traceback": [
        "\u001b[1;31m---------------------------------------------------------------------------\u001b[0m\n\u001b[1;31mKeyError\u001b[0m                                  Traceback (most recent call last)",
        "\u001b[1;32m<ipython-input-494-0b0c8338010f>\u001b[0m in \u001b[0;36m<module>\u001b[1;34m()\u001b[0m\n\u001b[0;32m      1\u001b[0m \u001b[0mn\u001b[0m \u001b[1;33m=\u001b[0m \u001b[0mnodes\u001b[0m\u001b[1;33m.\u001b[0m\u001b[0mix\u001b[0m\u001b[1;33m[\u001b[0m\u001b[1;34m'GO:0005819'\u001b[0m\u001b[1;33m]\u001b[0m\u001b[1;33m\u001b[0m\u001b[0m\n\u001b[1;32m----> 2\u001b[1;33m \u001b[0mpd\u001b[0m\u001b[1;33m.\u001b[0m\u001b[0mconcat\u001b[0m\u001b[1;33m(\u001b[0m\u001b[1;33m[\u001b[0m\u001b[0mr4\u001b[0m\u001b[1;33m.\u001b[0m\u001b[0mix\u001b[0m\u001b[1;33m[\u001b[0m\u001b[0mn\u001b[0m\u001b[1;33m.\u001b[0m\u001b[0mid\u001b[0m\u001b[1;33m]\u001b[0m\u001b[1;33m,\u001b[0m \u001b[0mr4\u001b[0m\u001b[1;33m.\u001b[0m\u001b[0mix\u001b[0m\u001b[1;33m[\u001b[0m\u001b[1;33m:\u001b[0m\u001b[1;33m,\u001b[0m\u001b[0mn\u001b[0m\u001b[1;33m.\u001b[0m\u001b[0mid\u001b[0m\u001b[1;33m]\u001b[0m\u001b[1;33m]\u001b[0m\u001b[1;33m)\u001b[0m\u001b[1;33m\u001b[0m\u001b[0m\n\u001b[0m",
        "\u001b[1;32m/cellar/users/agross/anaconda2/lib/python2.7/site-packages/pandas-0.13.0_247_g82bcbb8-py2.7-linux-x86_64.egg/pandas/core/indexing.pyc\u001b[0m in \u001b[0;36m__getitem__\u001b[1;34m(self, key)\u001b[0m\n\u001b[0;32m     52\u001b[0m                 \u001b[1;32mpass\u001b[0m\u001b[1;33m\u001b[0m\u001b[0m\n\u001b[0;32m     53\u001b[0m \u001b[1;33m\u001b[0m\u001b[0m\n\u001b[1;32m---> 54\u001b[1;33m             \u001b[1;32mreturn\u001b[0m \u001b[0mself\u001b[0m\u001b[1;33m.\u001b[0m\u001b[0m_getitem_tuple\u001b[0m\u001b[1;33m(\u001b[0m\u001b[0mkey\u001b[0m\u001b[1;33m)\u001b[0m\u001b[1;33m\u001b[0m\u001b[0m\n\u001b[0m\u001b[0;32m     55\u001b[0m         \u001b[1;32melse\u001b[0m\u001b[1;33m:\u001b[0m\u001b[1;33m\u001b[0m\u001b[0m\n\u001b[0;32m     56\u001b[0m             \u001b[1;32mreturn\u001b[0m \u001b[0mself\u001b[0m\u001b[1;33m.\u001b[0m\u001b[0m_getitem_axis\u001b[0m\u001b[1;33m(\u001b[0m\u001b[0mkey\u001b[0m\u001b[1;33m,\u001b[0m \u001b[0maxis\u001b[0m\u001b[1;33m=\u001b[0m\u001b[1;36m0\u001b[0m\u001b[1;33m)\u001b[0m\u001b[1;33m\u001b[0m\u001b[0m\n",
        "\u001b[1;32m/cellar/users/agross/anaconda2/lib/python2.7/site-packages/pandas-0.13.0_247_g82bcbb8-py2.7-linux-x86_64.egg/pandas/core/indexing.pyc\u001b[0m in \u001b[0;36m_getitem_tuple\u001b[1;34m(self, tup)\u001b[0m\n\u001b[0;32m    612\u001b[0m                 \u001b[1;32mcontinue\u001b[0m\u001b[1;33m\u001b[0m\u001b[0m\n\u001b[0;32m    613\u001b[0m \u001b[1;33m\u001b[0m\u001b[0m\n\u001b[1;32m--> 614\u001b[1;33m             \u001b[0mretval\u001b[0m \u001b[1;33m=\u001b[0m \u001b[0mgetattr\u001b[0m\u001b[1;33m(\u001b[0m\u001b[0mretval\u001b[0m\u001b[1;33m,\u001b[0m \u001b[0mself\u001b[0m\u001b[1;33m.\u001b[0m\u001b[0mname\u001b[0m\u001b[1;33m)\u001b[0m\u001b[1;33m.\u001b[0m\u001b[0m_getitem_axis\u001b[0m\u001b[1;33m(\u001b[0m\u001b[0mkey\u001b[0m\u001b[1;33m,\u001b[0m \u001b[0maxis\u001b[0m\u001b[1;33m=\u001b[0m\u001b[0mi\u001b[0m\u001b[1;33m)\u001b[0m\u001b[1;33m\u001b[0m\u001b[0m\n\u001b[0m\u001b[0;32m    615\u001b[0m \u001b[1;33m\u001b[0m\u001b[0m\n\u001b[0;32m    616\u001b[0m         \u001b[1;32mreturn\u001b[0m \u001b[0mretval\u001b[0m\u001b[1;33m\u001b[0m\u001b[0m\n",
        "\u001b[1;32m/cellar/users/agross/anaconda2/lib/python2.7/site-packages/pandas-0.13.0_247_g82bcbb8-py2.7-linux-x86_64.egg/pandas/core/indexing.pyc\u001b[0m in \u001b[0;36m_getitem_axis\u001b[1;34m(self, key, axis)\u001b[0m\n\u001b[0;32m    753\u001b[0m                     \u001b[1;32mreturn\u001b[0m \u001b[0mself\u001b[0m\u001b[1;33m.\u001b[0m\u001b[0m_get_loc\u001b[0m\u001b[1;33m(\u001b[0m\u001b[0mkey\u001b[0m\u001b[1;33m,\u001b[0m \u001b[0maxis\u001b[0m\u001b[1;33m=\u001b[0m\u001b[0maxis\u001b[0m\u001b[1;33m)\u001b[0m\u001b[1;33m\u001b[0m\u001b[0m\n\u001b[0;32m    754\u001b[0m \u001b[1;33m\u001b[0m\u001b[0m\n\u001b[1;32m--> 755\u001b[1;33m             \u001b[1;32mreturn\u001b[0m \u001b[0mself\u001b[0m\u001b[1;33m.\u001b[0m\u001b[0m_get_label\u001b[0m\u001b[1;33m(\u001b[0m\u001b[0mkey\u001b[0m\u001b[1;33m,\u001b[0m \u001b[0maxis\u001b[0m\u001b[1;33m=\u001b[0m\u001b[0maxis\u001b[0m\u001b[1;33m)\u001b[0m\u001b[1;33m\u001b[0m\u001b[0m\n\u001b[0m\u001b[0;32m    756\u001b[0m \u001b[1;33m\u001b[0m\u001b[0m\n\u001b[0;32m    757\u001b[0m     \u001b[1;32mdef\u001b[0m \u001b[0m_getitem_iterable\u001b[0m\u001b[1;33m(\u001b[0m\u001b[0mself\u001b[0m\u001b[1;33m,\u001b[0m \u001b[0mkey\u001b[0m\u001b[1;33m,\u001b[0m \u001b[0maxis\u001b[0m\u001b[1;33m=\u001b[0m\u001b[1;36m0\u001b[0m\u001b[1;33m)\u001b[0m\u001b[1;33m:\u001b[0m\u001b[1;33m\u001b[0m\u001b[0m\n",
        "\u001b[1;32m/cellar/users/agross/anaconda2/lib/python2.7/site-packages/pandas-0.13.0_247_g82bcbb8-py2.7-linux-x86_64.egg/pandas/core/indexing.pyc\u001b[0m in \u001b[0;36m_get_label\u001b[1;34m(self, label, axis)\u001b[0m\n\u001b[0;32m     66\u001b[0m             \u001b[1;32mreturn\u001b[0m \u001b[0mself\u001b[0m\u001b[1;33m.\u001b[0m\u001b[0mobj\u001b[0m\u001b[1;33m.\u001b[0m\u001b[0m_xs\u001b[0m\u001b[1;33m(\u001b[0m\u001b[0mlabel\u001b[0m\u001b[1;33m,\u001b[0m \u001b[0maxis\u001b[0m\u001b[1;33m=\u001b[0m\u001b[0maxis\u001b[0m\u001b[1;33m,\u001b[0m \u001b[0mcopy\u001b[0m\u001b[1;33m=\u001b[0m\u001b[0mFalse\u001b[0m\u001b[1;33m)\u001b[0m\u001b[1;33m\u001b[0m\u001b[0m\n\u001b[0;32m     67\u001b[0m         \u001b[1;32mexcept\u001b[0m \u001b[0mException\u001b[0m\u001b[1;33m:\u001b[0m\u001b[1;33m\u001b[0m\u001b[0m\n\u001b[1;32m---> 68\u001b[1;33m             \u001b[1;32mreturn\u001b[0m \u001b[0mself\u001b[0m\u001b[1;33m.\u001b[0m\u001b[0mobj\u001b[0m\u001b[1;33m.\u001b[0m\u001b[0m_xs\u001b[0m\u001b[1;33m(\u001b[0m\u001b[0mlabel\u001b[0m\u001b[1;33m,\u001b[0m \u001b[0maxis\u001b[0m\u001b[1;33m=\u001b[0m\u001b[0maxis\u001b[0m\u001b[1;33m,\u001b[0m \u001b[0mcopy\u001b[0m\u001b[1;33m=\u001b[0m\u001b[0mTrue\u001b[0m\u001b[1;33m)\u001b[0m\u001b[1;33m\u001b[0m\u001b[0m\n\u001b[0m\u001b[0;32m     69\u001b[0m \u001b[1;33m\u001b[0m\u001b[0m\n\u001b[0;32m     70\u001b[0m     \u001b[1;32mdef\u001b[0m \u001b[0m_get_loc\u001b[0m\u001b[1;33m(\u001b[0m\u001b[0mself\u001b[0m\u001b[1;33m,\u001b[0m \u001b[0mkey\u001b[0m\u001b[1;33m,\u001b[0m \u001b[0maxis\u001b[0m\u001b[1;33m=\u001b[0m\u001b[1;36m0\u001b[0m\u001b[1;33m)\u001b[0m\u001b[1;33m:\u001b[0m\u001b[1;33m\u001b[0m\u001b[0m\n",
        "\u001b[1;32m/cellar/users/agross/anaconda2/lib/python2.7/site-packages/pandas-0.13.0_247_g82bcbb8-py2.7-linux-x86_64.egg/pandas/core/frame.pyc\u001b[0m in \u001b[0;36mxs\u001b[1;34m(self, key, axis, level, copy, drop_level)\u001b[0m\n\u001b[0;32m   2138\u001b[0m \u001b[1;33m\u001b[0m\u001b[0m\n\u001b[0;32m   2139\u001b[0m         \u001b[1;32mif\u001b[0m \u001b[0maxis\u001b[0m \u001b[1;33m==\u001b[0m \u001b[1;36m1\u001b[0m\u001b[1;33m:\u001b[0m\u001b[1;33m\u001b[0m\u001b[0m\n\u001b[1;32m-> 2140\u001b[1;33m             \u001b[0mdata\u001b[0m \u001b[1;33m=\u001b[0m \u001b[0mself\u001b[0m\u001b[1;33m[\u001b[0m\u001b[0mkey\u001b[0m\u001b[1;33m]\u001b[0m\u001b[1;33m\u001b[0m\u001b[0m\n\u001b[0m\u001b[0;32m   2141\u001b[0m             \u001b[1;32mif\u001b[0m \u001b[0mcopy\u001b[0m\u001b[1;33m:\u001b[0m\u001b[1;33m\u001b[0m\u001b[0m\n\u001b[0;32m   2142\u001b[0m                 \u001b[0mdata\u001b[0m \u001b[1;33m=\u001b[0m \u001b[0mdata\u001b[0m\u001b[1;33m.\u001b[0m\u001b[0mcopy\u001b[0m\u001b[1;33m(\u001b[0m\u001b[1;33m)\u001b[0m\u001b[1;33m\u001b[0m\u001b[0m\n",
        "\u001b[1;32m/cellar/users/agross/anaconda2/lib/python2.7/site-packages/pandas-0.13.0_247_g82bcbb8-py2.7-linux-x86_64.egg/pandas/core/frame.pyc\u001b[0m in \u001b[0;36m__getitem__\u001b[1;34m(self, key)\u001b[0m\n\u001b[0;32m   1645\u001b[0m             \u001b[1;32mreturn\u001b[0m \u001b[0mself\u001b[0m\u001b[1;33m.\u001b[0m\u001b[0m_getitem_frame\u001b[0m\u001b[1;33m(\u001b[0m\u001b[0mkey\u001b[0m\u001b[1;33m)\u001b[0m\u001b[1;33m\u001b[0m\u001b[0m\n\u001b[0;32m   1646\u001b[0m         \u001b[1;32melif\u001b[0m \u001b[0mis_mi_columns\u001b[0m\u001b[1;33m:\u001b[0m\u001b[1;33m\u001b[0m\u001b[0m\n\u001b[1;32m-> 1647\u001b[1;33m             \u001b[1;32mreturn\u001b[0m \u001b[0mself\u001b[0m\u001b[1;33m.\u001b[0m\u001b[0m_getitem_multilevel\u001b[0m\u001b[1;33m(\u001b[0m\u001b[0mkey\u001b[0m\u001b[1;33m)\u001b[0m\u001b[1;33m\u001b[0m\u001b[0m\n\u001b[0m\u001b[0;32m   1648\u001b[0m         \u001b[1;32melse\u001b[0m\u001b[1;33m:\u001b[0m\u001b[1;33m\u001b[0m\u001b[0m\n\u001b[0;32m   1649\u001b[0m             \u001b[1;32mreturn\u001b[0m \u001b[0mself\u001b[0m\u001b[1;33m.\u001b[0m\u001b[0m_getitem_column\u001b[0m\u001b[1;33m(\u001b[0m\u001b[0mkey\u001b[0m\u001b[1;33m)\u001b[0m\u001b[1;33m\u001b[0m\u001b[0m\n",
        "\u001b[1;32m/cellar/users/agross/anaconda2/lib/python2.7/site-packages/pandas-0.13.0_247_g82bcbb8-py2.7-linux-x86_64.egg/pandas/core/frame.pyc\u001b[0m in \u001b[0;36m_getitem_multilevel\u001b[1;34m(self, key)\u001b[0m\n\u001b[0;32m   1689\u001b[0m \u001b[1;33m\u001b[0m\u001b[0m\n\u001b[0;32m   1690\u001b[0m     \u001b[1;32mdef\u001b[0m \u001b[0m_getitem_multilevel\u001b[0m\u001b[1;33m(\u001b[0m\u001b[0mself\u001b[0m\u001b[1;33m,\u001b[0m \u001b[0mkey\u001b[0m\u001b[1;33m)\u001b[0m\u001b[1;33m:\u001b[0m\u001b[1;33m\u001b[0m\u001b[0m\n\u001b[1;32m-> 1691\u001b[1;33m         \u001b[0mloc\u001b[0m \u001b[1;33m=\u001b[0m \u001b[0mself\u001b[0m\u001b[1;33m.\u001b[0m\u001b[0mcolumns\u001b[0m\u001b[1;33m.\u001b[0m\u001b[0mget_loc\u001b[0m\u001b[1;33m(\u001b[0m\u001b[0mkey\u001b[0m\u001b[1;33m)\u001b[0m\u001b[1;33m\u001b[0m\u001b[0m\n\u001b[0m\u001b[0;32m   1692\u001b[0m         \u001b[1;32mif\u001b[0m \u001b[0misinstance\u001b[0m\u001b[1;33m(\u001b[0m\u001b[0mloc\u001b[0m\u001b[1;33m,\u001b[0m \u001b[1;33m(\u001b[0m\u001b[0mslice\u001b[0m\u001b[1;33m,\u001b[0m \u001b[0mSeries\u001b[0m\u001b[1;33m,\u001b[0m \u001b[0mnp\u001b[0m\u001b[1;33m.\u001b[0m\u001b[0mndarray\u001b[0m\u001b[1;33m)\u001b[0m\u001b[1;33m)\u001b[0m\u001b[1;33m:\u001b[0m\u001b[1;33m\u001b[0m\u001b[0m\n\u001b[0;32m   1693\u001b[0m             \u001b[0mnew_columns\u001b[0m \u001b[1;33m=\u001b[0m \u001b[0mself\u001b[0m\u001b[1;33m.\u001b[0m\u001b[0mcolumns\u001b[0m\u001b[1;33m[\u001b[0m\u001b[0mloc\u001b[0m\u001b[1;33m]\u001b[0m\u001b[1;33m\u001b[0m\u001b[0m\n",
        "\u001b[1;32m/cellar/users/agross/anaconda2/lib/python2.7/site-packages/pandas-0.13.0_247_g82bcbb8-py2.7-linux-x86_64.egg/pandas/core/index.pyc\u001b[0m in \u001b[0;36mget_loc\u001b[1;34m(self, key)\u001b[0m\n\u001b[0;32m   3053\u001b[0m                 \u001b[1;32mreturn\u001b[0m \u001b[0mresult\u001b[0m\u001b[1;33m\u001b[0m\u001b[0m\n\u001b[0;32m   3054\u001b[0m         \u001b[1;32melse\u001b[0m\u001b[1;33m:\u001b[0m\u001b[1;33m\u001b[0m\u001b[0m\n\u001b[1;32m-> 3055\u001b[1;33m             \u001b[1;32mreturn\u001b[0m \u001b[0mself\u001b[0m\u001b[1;33m.\u001b[0m\u001b[0m_get_level_indexer\u001b[0m\u001b[1;33m(\u001b[0m\u001b[0mkey\u001b[0m\u001b[1;33m,\u001b[0m \u001b[0mlevel\u001b[0m\u001b[1;33m=\u001b[0m\u001b[1;36m0\u001b[0m\u001b[1;33m)\u001b[0m\u001b[1;33m\u001b[0m\u001b[0m\n\u001b[0m\u001b[0;32m   3056\u001b[0m \u001b[1;33m\u001b[0m\u001b[0m\n\u001b[0;32m   3057\u001b[0m     \u001b[1;32mdef\u001b[0m \u001b[0mget_loc_level\u001b[0m\u001b[1;33m(\u001b[0m\u001b[0mself\u001b[0m\u001b[1;33m,\u001b[0m \u001b[0mkey\u001b[0m\u001b[1;33m,\u001b[0m \u001b[0mlevel\u001b[0m\u001b[1;33m=\u001b[0m\u001b[1;36m0\u001b[0m\u001b[1;33m,\u001b[0m \u001b[0mdrop_level\u001b[0m\u001b[1;33m=\u001b[0m\u001b[0mTrue\u001b[0m\u001b[1;33m)\u001b[0m\u001b[1;33m:\u001b[0m\u001b[1;33m\u001b[0m\u001b[0m\n",
        "\u001b[1;32m/cellar/users/agross/anaconda2/lib/python2.7/site-packages/pandas-0.13.0_247_g82bcbb8-py2.7-linux-x86_64.egg/pandas/core/index.pyc\u001b[0m in \u001b[0;36m_get_level_indexer\u001b[1;34m(self, key, level)\u001b[0m\n\u001b[0;32m   3190\u001b[0m     \u001b[1;32mdef\u001b[0m \u001b[0m_get_level_indexer\u001b[0m\u001b[1;33m(\u001b[0m\u001b[0mself\u001b[0m\u001b[1;33m,\u001b[0m \u001b[0mkey\u001b[0m\u001b[1;33m,\u001b[0m \u001b[0mlevel\u001b[0m\u001b[1;33m=\u001b[0m\u001b[1;36m0\u001b[0m\u001b[1;33m)\u001b[0m\u001b[1;33m:\u001b[0m\u001b[1;33m\u001b[0m\u001b[0m\n\u001b[0;32m   3191\u001b[0m         \u001b[0mlevel_index\u001b[0m \u001b[1;33m=\u001b[0m \u001b[0mself\u001b[0m\u001b[1;33m.\u001b[0m\u001b[0mlevels\u001b[0m\u001b[1;33m[\u001b[0m\u001b[0mlevel\u001b[0m\u001b[1;33m]\u001b[0m\u001b[1;33m\u001b[0m\u001b[0m\n\u001b[1;32m-> 3192\u001b[1;33m         \u001b[0mloc\u001b[0m \u001b[1;33m=\u001b[0m \u001b[0mlevel_index\u001b[0m\u001b[1;33m.\u001b[0m\u001b[0mget_loc\u001b[0m\u001b[1;33m(\u001b[0m\u001b[0mkey\u001b[0m\u001b[1;33m)\u001b[0m\u001b[1;33m\u001b[0m\u001b[0m\n\u001b[0m\u001b[0;32m   3193\u001b[0m         \u001b[0mlabels\u001b[0m \u001b[1;33m=\u001b[0m \u001b[0mself\u001b[0m\u001b[1;33m.\u001b[0m\u001b[0mlabels\u001b[0m\u001b[1;33m[\u001b[0m\u001b[0mlevel\u001b[0m\u001b[1;33m]\u001b[0m\u001b[1;33m\u001b[0m\u001b[0m\n\u001b[0;32m   3194\u001b[0m \u001b[1;33m\u001b[0m\u001b[0m\n",
        "\u001b[1;32m/cellar/users/agross/anaconda2/lib/python2.7/site-packages/pandas-0.13.0_247_g82bcbb8-py2.7-linux-x86_64.egg/pandas/core/index.pyc\u001b[0m in \u001b[0;36mget_loc\u001b[1;34m(self, key)\u001b[0m\n\u001b[0;32m   1015\u001b[0m         \u001b[0mloc\u001b[0m \u001b[1;33m:\u001b[0m \u001b[0mint\u001b[0m \u001b[1;32mif\u001b[0m \u001b[0munique\u001b[0m \u001b[0mindex\u001b[0m\u001b[1;33m,\u001b[0m \u001b[0mpossibly\u001b[0m \u001b[0mslice\u001b[0m \u001b[1;32mor\u001b[0m \u001b[0mmask\u001b[0m \u001b[1;32mif\u001b[0m \u001b[1;32mnot\u001b[0m\u001b[1;33m\u001b[0m\u001b[0m\n\u001b[0;32m   1016\u001b[0m         \"\"\"\n\u001b[1;32m-> 1017\u001b[1;33m         \u001b[1;32mreturn\u001b[0m \u001b[0mself\u001b[0m\u001b[1;33m.\u001b[0m\u001b[0m_engine\u001b[0m\u001b[1;33m.\u001b[0m\u001b[0mget_loc\u001b[0m\u001b[1;33m(\u001b[0m\u001b[0m_values_from_object\u001b[0m\u001b[1;33m(\u001b[0m\u001b[0mkey\u001b[0m\u001b[1;33m)\u001b[0m\u001b[1;33m)\u001b[0m\u001b[1;33m\u001b[0m\u001b[0m\n\u001b[0m\u001b[0;32m   1018\u001b[0m \u001b[1;33m\u001b[0m\u001b[0m\n\u001b[0;32m   1019\u001b[0m     \u001b[1;32mdef\u001b[0m \u001b[0mget_value\u001b[0m\u001b[1;33m(\u001b[0m\u001b[0mself\u001b[0m\u001b[1;33m,\u001b[0m \u001b[0mseries\u001b[0m\u001b[1;33m,\u001b[0m \u001b[0mkey\u001b[0m\u001b[1;33m)\u001b[0m\u001b[1;33m:\u001b[0m\u001b[1;33m\u001b[0m\u001b[0m\n",
        "\u001b[1;32m/cellar/users/agross/anaconda2/lib/python2.7/site-packages/pandas-0.13.0_247_g82bcbb8-py2.7-linux-x86_64.egg/pandas/index.so\u001b[0m in \u001b[0;36mpandas.index.IndexEngine.get_loc (pandas/index.c:3553)\u001b[1;34m()\u001b[0m\n",
        "\u001b[1;32m/cellar/users/agross/anaconda2/lib/python2.7/site-packages/pandas-0.13.0_247_g82bcbb8-py2.7-linux-x86_64.egg/pandas/index.so\u001b[0m in \u001b[0;36mpandas.index.IndexEngine.get_loc (pandas/index.c:3433)\u001b[1;34m()\u001b[0m\n",
        "\u001b[1;32m/cellar/users/agross/anaconda2/lib/python2.7/site-packages/pandas-0.13.0_247_g82bcbb8-py2.7-linux-x86_64.egg/pandas/hashtable.so\u001b[0m in \u001b[0;36mpandas.hashtable.PyObjectHashTable.get_item (pandas/hashtable.c:10780)\u001b[1;34m()\u001b[0m\n",
        "\u001b[1;32m/cellar/users/agross/anaconda2/lib/python2.7/site-packages/pandas-0.13.0_247_g82bcbb8-py2.7-linux-x86_64.egg/pandas/hashtable.so\u001b[0m in \u001b[0;36mpandas.hashtable.PyObjectHashTable.get_item (pandas/hashtable.c:10733)\u001b[1;34m()\u001b[0m\n",
        "\u001b[1;31mKeyError\u001b[0m: 'GO:0005819'"
       ]
      }
     ],
     "prompt_number": 494
    },
    {
     "cell_type": "code",
     "collapsed": false,
     "input": [
      "nodes.ix['GO:0000278'].get_parents()"
     ],
     "language": "python",
     "metadata": {},
     "outputs": [
      {
       "metadata": {},
       "output_type": "pyout",
       "prompt_number": 457,
       "text": [
        "GO:0007049    cell cycle\n",
        "dtype: object"
       ]
      }
     ],
     "prompt_number": 457
    },
    {
     "cell_type": "code",
     "collapsed": false,
     "input": [
      "p = nodes.ix['GO:0007049']\n",
      "c = p.children\n",
      "c = pd.Series({i: n for i,n in c.iteritems() if len(n.genes) > 10})\n",
      "rp = pd.DataFrame({n.id: get_enrichment_context_anova(n, p, frac) for n in c if len(n.genes) > 0}).T\n",
      "rp['name']  = pd.Series({n.id: n.name for n in c})"
     ],
     "language": "python",
     "metadata": {},
     "outputs": [],
     "prompt_number": 466
    },
    {
     "cell_type": "code",
     "collapsed": false,
     "input": [
      "rp"
     ],
     "language": "python",
     "metadata": {},
     "outputs": [
      {
       "html": [
        "<div style=\"max-height:1000px;max-width:1500px;overflow:auto;\">\n",
        "<table border=\"1\" class=\"dataframe\">\n",
        "  <thead>\n",
        "    <tr>\n",
        "      <th></th>\n",
        "      <th colspan=\"2\" halign=\"left\">stats</th>\n",
        "      <th colspan=\"2\" halign=\"left\">test</th>\n",
        "      <th>name</th>\n",
        "    </tr>\n",
        "    <tr>\n",
        "      <th></th>\n",
        "      <th>B</th>\n",
        "      <th>N</th>\n",
        "      <th>H</th>\n",
        "      <th>p</th>\n",
        "      <th></th>\n",
        "    </tr>\n",
        "  </thead>\n",
        "  <tbody>\n",
        "    <tr>\n",
        "      <th>GO:0000278</th>\n",
        "      <td> 406</td>\n",
        "      <td> 575</td>\n",
        "      <td> 76.7</td>\n",
        "      <td> 1.99e-18</td>\n",
        "      <td> mitotic cell cycle</td>\n",
        "    </tr>\n",
        "  </tbody>\n",
        "</table>\n",
        "<p>1 rows \u00d7 5 columns</p>\n",
        "</div>"
       ],
       "metadata": {},
       "output_type": "pyout",
       "prompt_number": 467,
       "text": [
        "            stats       test                          name\n",
        "                B    N     H         p                    \n",
        "GO:0000278    406  575  76.7  1.99e-18  mitotic cell cycle\n",
        "\n",
        "[1 rows x 5 columns]"
       ]
      }
     ],
     "prompt_number": 467
    },
    {
     "cell_type": "code",
     "collapsed": false,
     "input": [
      "node_vec = pd.Series(1, index=nodes.ix['GO:0000278'].genes).ix[ontology.background].fillna(0)\n",
      "pat_vec = pd.Series(1, index=nodes.ix['GO:0007049'].genes).ix[ontology.background].fillna(0)\n",
      "\n",
      "violin_plot_pandas(node_vec + pat_vec, frac)"
     ],
     "language": "python",
     "metadata": {},
     "outputs": [
      {
       "metadata": {},
       "output_type": "display_data",
       "png": "[encoded data removed]",
       "text": [
        "<matplotlib.figure.Figure at 0x6eaa6e90>"
       ]
      }
     ],
     "prompt_number": 464
    },
    {
     "cell_type": "code",
     "collapsed": false,
     "input": [
      "r3 = pd.DataFrame({n.id: get_enrichment_context_anova(n, frac) for n in ontology.nodes.ix[r.index[:20]]}).T"
     ],
     "language": "python",
     "metadata": {},
     "outputs": [
      {
       "ename": "TypeError",
       "evalue": "get_enrichment_context_anova() takes exactly 4 arguments (3 given)",
       "output_type": "pyerr",
       "traceback": [
        "\u001b[1;31m---------------------------------------------------------------------------\u001b[0m\n\u001b[1;31mTypeError\u001b[0m                                 Traceback (most recent call last)",
        "\u001b[1;32m<ipython-input-438-ef5339cca598>\u001b[0m in \u001b[0;36m<module>\u001b[1;34m()\u001b[0m\n\u001b[1;32m----> 1\u001b[1;33m \u001b[0mr3\u001b[0m \u001b[1;33m=\u001b[0m \u001b[0mpd\u001b[0m\u001b[1;33m.\u001b[0m\u001b[0mDataFrame\u001b[0m\u001b[1;33m(\u001b[0m\u001b[1;33m{\u001b[0m\u001b[0mn\u001b[0m\u001b[1;33m.\u001b[0m\u001b[0mid\u001b[0m\u001b[1;33m:\u001b[0m \u001b[0mget_enrichment_context_anova\u001b[0m\u001b[1;33m(\u001b[0m\u001b[0montology\u001b[0m\u001b[1;33m,\u001b[0m \u001b[0mn\u001b[0m\u001b[1;33m,\u001b[0m \u001b[0mfrac\u001b[0m\u001b[1;33m)\u001b[0m \u001b[1;32mfor\u001b[0m \u001b[0mn\u001b[0m \u001b[1;32min\u001b[0m \u001b[0montology\u001b[0m\u001b[1;33m.\u001b[0m\u001b[0mnodes\u001b[0m\u001b[1;33m.\u001b[0m\u001b[0mix\u001b[0m\u001b[1;33m[\u001b[0m\u001b[0mr\u001b[0m\u001b[1;33m.\u001b[0m\u001b[0mindex\u001b[0m\u001b[1;33m[\u001b[0m\u001b[1;33m:\u001b[0m\u001b[1;36m20\u001b[0m\u001b[1;33m]\u001b[0m\u001b[1;33m]\u001b[0m\u001b[1;33m}\u001b[0m\u001b[1;33m)\u001b[0m\u001b[1;33m.\u001b[0m\u001b[0mT\u001b[0m\u001b[1;33m\u001b[0m\u001b[0m\n\u001b[0m",
        "\u001b[1;32m<ipython-input-438-ef5339cca598>\u001b[0m in \u001b[0;36m<dictcomp>\u001b[1;34m((n,))\u001b[0m\n\u001b[1;32m----> 1\u001b[1;33m \u001b[0mr3\u001b[0m \u001b[1;33m=\u001b[0m \u001b[0mpd\u001b[0m\u001b[1;33m.\u001b[0m\u001b[0mDataFrame\u001b[0m\u001b[1;33m(\u001b[0m\u001b[1;33m{\u001b[0m\u001b[0mn\u001b[0m\u001b[1;33m.\u001b[0m\u001b[0mid\u001b[0m\u001b[1;33m:\u001b[0m \u001b[0mget_enrichment_context_anova\u001b[0m\u001b[1;33m(\u001b[0m\u001b[0montology\u001b[0m\u001b[1;33m,\u001b[0m \u001b[0mn\u001b[0m\u001b[1;33m,\u001b[0m \u001b[0mfrac\u001b[0m\u001b[1;33m)\u001b[0m \u001b[1;32mfor\u001b[0m \u001b[0mn\u001b[0m \u001b[1;32min\u001b[0m \u001b[0montology\u001b[0m\u001b[1;33m.\u001b[0m\u001b[0mnodes\u001b[0m\u001b[1;33m.\u001b[0m\u001b[0mix\u001b[0m\u001b[1;33m[\u001b[0m\u001b[0mr\u001b[0m\u001b[1;33m.\u001b[0m\u001b[0mindex\u001b[0m\u001b[1;33m[\u001b[0m\u001b[1;33m:\u001b[0m\u001b[1;36m20\u001b[0m\u001b[1;33m]\u001b[0m\u001b[1;33m]\u001b[0m\u001b[1;33m}\u001b[0m\u001b[1;33m)\u001b[0m\u001b[1;33m.\u001b[0m\u001b[0mT\u001b[0m\u001b[1;33m\u001b[0m\u001b[0m\n\u001b[0m",
        "\u001b[1;31mTypeError\u001b[0m: get_enrichment_context_anova() takes exactly 4 arguments (3 given)"
       ]
      }
     ],
     "prompt_number": 438
    },
    {
     "cell_type": "code",
     "collapsed": false,
     "input": [
      "r2 = pd.DataFrame({n.id: get_enrichment_context(ontology, n, g) for n in ontology.nodes.ix[r.index[:20]]}).T"
     ],
     "language": "python",
     "metadata": {},
     "outputs": [],
     "prompt_number": 33
    },
    {
     "cell_type": "code",
     "collapsed": false,
     "input": [
      "pd.concat([r,r2], axis=1, keys=['full','context']).sort([('full','test','p')]).head()"
     ],
     "language": "python",
     "metadata": {},
     "outputs": [
      {
       "html": [
        "<div style=\"max-height:1000px;max-width:1500px;overflow:auto;\">\n",
        "<table border=\"1\" class=\"dataframe\">\n",
        "  <thead>\n",
        "    <tr>\n",
        "      <th></th>\n",
        "      <th colspan=\"8\" halign=\"left\">full</th>\n",
        "      <th colspan=\"7\" halign=\"left\">context</th>\n",
        "    </tr>\n",
        "    <tr>\n",
        "      <th></th>\n",
        "      <th colspan=\"4\" halign=\"left\">stats</th>\n",
        "      <th colspan=\"3\" halign=\"left\">test</th>\n",
        "      <th>name</th>\n",
        "      <th colspan=\"4\" halign=\"left\">stats</th>\n",
        "      <th colspan=\"3\" halign=\"left\">test</th>\n",
        "    </tr>\n",
        "    <tr>\n",
        "      <th></th>\n",
        "      <th>B</th>\n",
        "      <th>N</th>\n",
        "      <th>b</th>\n",
        "      <th>n</th>\n",
        "      <th>chi2</th>\n",
        "      <th>p</th>\n",
        "      <th>dof</th>\n",
        "      <th></th>\n",
        "      <th>B</th>\n",
        "      <th>N</th>\n",
        "      <th>b</th>\n",
        "      <th>n</th>\n",
        "      <th>chi2</th>\n",
        "      <th>p</th>\n",
        "      <th>dof</th>\n",
        "    </tr>\n",
        "  </thead>\n",
        "  <tbody>\n",
        "    <tr>\n",
        "      <th>GO:0000278</th>\n",
        "      <td> 406</td>\n",
        "      <td> 16722</td>\n",
        "      <td>  76</td>\n",
        "      <td> 444</td>\n",
        "      <td> 432.49</td>\n",
        "      <td> 4.66e-96</td>\n",
        "      <td> 1</td>\n",
        "      <td> mitotic cell cycle</td>\n",
        "      <td> 406</td>\n",
        "      <td>  575</td>\n",
        "      <td>  76</td>\n",
        "      <td>  86</td>\n",
        "      <td>  18.74</td>\n",
        "      <td> 1.50e-05</td>\n",
        "      <td> 1</td>\n",
        "    </tr>\n",
        "    <tr>\n",
        "      <th>GO:0022402</th>\n",
        "      <td> 969</td>\n",
        "      <td> 16722</td>\n",
        "      <td> 118</td>\n",
        "      <td> 444</td>\n",
        "      <td> 395.51</td>\n",
        "      <td> 5.23e-88</td>\n",
        "      <td> 1</td>\n",
        "      <td> cell cycle process</td>\n",
        "      <td> 969</td>\n",
        "      <td> 8415</td>\n",
        "      <td> 118</td>\n",
        "      <td> 316</td>\n",
        "      <td> 239.39</td>\n",
        "      <td> 5.35e-54</td>\n",
        "      <td> 1</td>\n",
        "    </tr>\n",
        "    <tr>\n",
        "      <th>GO:0007049</th>\n",
        "      <td> 603</td>\n",
        "      <td> 16722</td>\n",
        "      <td>  86</td>\n",
        "      <td> 444</td>\n",
        "      <td> 343.72</td>\n",
        "      <td> 9.90e-77</td>\n",
        "      <td> 1</td>\n",
        "      <td>         cell cycle</td>\n",
        "      <td> 603</td>\n",
        "      <td> 8415</td>\n",
        "      <td>  86</td>\n",
        "      <td> 316</td>\n",
        "      <td> 210.94</td>\n",
        "      <td> 8.55e-48</td>\n",
        "      <td> 1</td>\n",
        "    </tr>\n",
        "    <tr>\n",
        "      <th>GO:0000280</th>\n",
        "      <td> 330</td>\n",
        "      <td> 16722</td>\n",
        "      <td>  61</td>\n",
        "      <td> 444</td>\n",
        "      <td> 341.68</td>\n",
        "      <td> 2.75e-76</td>\n",
        "      <td> 1</td>\n",
        "      <td>   nuclear division</td>\n",
        "      <td> 330</td>\n",
        "      <td>  336</td>\n",
        "      <td>  61</td>\n",
        "      <td>  61</td>\n",
        "      <td>   4.00</td>\n",
        "      <td> 4.56e-02</td>\n",
        "      <td> 1</td>\n",
        "    </tr>\n",
        "    <tr>\n",
        "      <th>GO:0048285</th>\n",
        "      <td> 356</td>\n",
        "      <td> 16722</td>\n",
        "      <td>  61</td>\n",
        "      <td> 444</td>\n",
        "      <td> 312.61</td>\n",
        "      <td> 5.89e-70</td>\n",
        "      <td> 1</td>\n",
        "      <td>  organelle fission</td>\n",
        "      <td> 356</td>\n",
        "      <td> 1835</td>\n",
        "      <td>  61</td>\n",
        "      <td> 127</td>\n",
        "      <td>  78.46</td>\n",
        "      <td> 8.18e-19</td>\n",
        "      <td> 1</td>\n",
        "    </tr>\n",
        "  </tbody>\n",
        "</table>\n",
        "<p>5 rows \u00d7 15 columns</p>\n",
        "</div>"
       ],
       "metadata": {},
       "output_type": "pyout",
       "prompt_number": 34,
       "text": [
        "             full                                                        full  context                                       \n",
        "            stats                     test                               name    stats                    test               \n",
        "                B      N    b    n    chi2         p  dof                            B     N    b    n    chi2         p  dof\n",
        "GO:0000278    406  16722   76  444  432.49  4.66e-96    1  mitotic cell cycle      406   575   76   86   18.74  1.50e-05    1\n",
        "GO:0022402    969  16722  118  444  395.51  5.23e-88    1  cell cycle process      969  8415  118  316  239.39  5.35e-54    1\n",
        "GO:0007049    603  16722   86  444  343.72  9.90e-77    1          cell cycle      603  8415   86  316  210.94  8.55e-48    1\n",
        "GO:0000280    330  16722   61  444  341.68  2.75e-76    1    nuclear division      330   336   61   61    4.00  4.56e-02    1\n",
        "GO:0048285    356  16722   61  444  312.61  5.89e-70    1   organelle fission      356  1835   61  127   78.46  8.18e-19    1\n",
        "\n",
        "[5 rows x 15 columns]"
       ]
      }
     ],
     "prompt_number": 34
    },
    {
     "cell_type": "code",
     "collapsed": false,
     "input": [
      "p = nodes.ix['GO:0044427']\n",
      "c = p.children\n",
      "c = pd.Series({i: n for i,n in c.iteritems() if len(n.genes) > 10})\n",
      "rp = pd.DataFrame({n.id: get_enrichment_context(ontology, n, p, g) for n in c if len(n.genes) > 0}).T\n",
      "rp['name']  = pd.Series({n.id: n.name for n in c})"
     ],
     "language": "python",
     "metadata": {},
     "outputs": [],
     "prompt_number": 73
    },
    {
     "cell_type": "code",
     "collapsed": false,
     "input": [
      "rp.sort([('test','p')])"
     ],
     "language": "python",
     "metadata": {},
     "outputs": [
      {
       "html": [
        "<div style=\"max-height:1000px;max-width:1500px;overflow:auto;\">\n",
        "<table border=\"1\" class=\"dataframe\">\n",
        "  <thead>\n",
        "    <tr>\n",
        "      <th></th>\n",
        "      <th colspan=\"4\" halign=\"left\">stats</th>\n",
        "      <th colspan=\"3\" halign=\"left\">test</th>\n",
        "      <th>name</th>\n",
        "    </tr>\n",
        "    <tr>\n",
        "      <th></th>\n",
        "      <th>B</th>\n",
        "      <th>N</th>\n",
        "      <th>b</th>\n",
        "      <th>n</th>\n",
        "      <th>chi2</th>\n",
        "      <th>p</th>\n",
        "      <th>dof</th>\n",
        "      <th></th>\n",
        "    </tr>\n",
        "  </thead>\n",
        "  <tbody>\n",
        "    <tr>\n",
        "      <th>GO:0000940</th>\n",
        "      <td>  12</td>\n",
        "      <td> 538</td>\n",
        "      <td>  8</td>\n",
        "      <td> 61</td>\n",
        "      <td> 3.61e+01</td>\n",
        "      <td> 1.88e-09</td>\n",
        "      <td> 1</td>\n",
        "      <td> condensed chromosome outer kinetochore</td>\n",
        "    </tr>\n",
        "    <tr>\n",
        "      <th>GO:0000775</th>\n",
        "      <td>  61</td>\n",
        "      <td> 538</td>\n",
        "      <td> 19</td>\n",
        "      <td> 61</td>\n",
        "      <td> 2.73e+01</td>\n",
        "      <td> 1.71e-07</td>\n",
        "      <td> 1</td>\n",
        "      <td>         chromosome, centromeric region</td>\n",
        "    </tr>\n",
        "    <tr>\n",
        "      <th>GO:0000776</th>\n",
        "      <td>  98</td>\n",
        "      <td> 538</td>\n",
        "      <td> 24</td>\n",
        "      <td> 61</td>\n",
        "      <td> 2.17e+01</td>\n",
        "      <td> 3.18e-06</td>\n",
        "      <td> 1</td>\n",
        "      <td>                            kinetochore</td>\n",
        "    </tr>\n",
        "    <tr>\n",
        "      <th>GO:0005657</th>\n",
        "      <td>  21</td>\n",
        "      <td> 538</td>\n",
        "      <td>  6</td>\n",
        "      <td> 61</td>\n",
        "      <td> 6.08e+00</td>\n",
        "      <td> 1.37e-02</td>\n",
        "      <td> 1</td>\n",
        "      <td>                       replication fork</td>\n",
        "    </tr>\n",
        "    <tr>\n",
        "      <th>GO:0000785</th>\n",
        "      <td> 226</td>\n",
        "      <td> 538</td>\n",
        "      <td> 17</td>\n",
        "      <td> 61</td>\n",
        "      <td> 3.88e+00</td>\n",
        "      <td> 4.89e-02</td>\n",
        "      <td> 1</td>\n",
        "      <td>                              chromatin</td>\n",
        "    </tr>\n",
        "    <tr>\n",
        "      <th>GO:0000786</th>\n",
        "      <td>  71</td>\n",
        "      <td> 538</td>\n",
        "      <td>  3</td>\n",
        "      <td> 61</td>\n",
        "      <td> 2.37e+00</td>\n",
        "      <td> 1.23e-01</td>\n",
        "      <td> 1</td>\n",
        "      <td>                             nucleosome</td>\n",
        "    </tr>\n",
        "    <tr>\n",
        "      <th>GO:0044454</th>\n",
        "      <td> 273</td>\n",
        "      <td> 538</td>\n",
        "      <td> 24</td>\n",
        "      <td> 61</td>\n",
        "      <td> 1.23e+00</td>\n",
        "      <td> 2.67e-01</td>\n",
        "      <td> 1</td>\n",
        "      <td>                nuclear chromosome part</td>\n",
        "    </tr>\n",
        "    <tr>\n",
        "      <th>GO:0010369</th>\n",
        "      <td>  12</td>\n",
        "      <td> 538</td>\n",
        "      <td>  3</td>\n",
        "      <td> 61</td>\n",
        "      <td> 1.10e+00</td>\n",
        "      <td> 2.94e-01</td>\n",
        "      <td> 1</td>\n",
        "      <td>                           chromocenter</td>\n",
        "    </tr>\n",
        "    <tr>\n",
        "      <th>GO:0000781</th>\n",
        "      <td>  50</td>\n",
        "      <td> 538</td>\n",
        "      <td>  3</td>\n",
        "      <td> 61</td>\n",
        "      <td> 7.76e-01</td>\n",
        "      <td> 3.78e-01</td>\n",
        "      <td> 1</td>\n",
        "      <td>           chromosome, telomeric region</td>\n",
        "    </tr>\n",
        "    <tr>\n",
        "      <th>GO:0000782</th>\n",
        "      <td>  12</td>\n",
        "      <td> 538</td>\n",
        "      <td>  0</td>\n",
        "      <td> 61</td>\n",
        "      <td> 4.07e-01</td>\n",
        "      <td> 5.23e-01</td>\n",
        "      <td> 1</td>\n",
        "      <td>                   telomere cap complex</td>\n",
        "    </tr>\n",
        "    <tr>\n",
        "      <th>GO:0008278</th>\n",
        "      <td>  12</td>\n",
        "      <td> 538</td>\n",
        "      <td>  2</td>\n",
        "      <td> 61</td>\n",
        "      <td> 1.65e-02</td>\n",
        "      <td> 8.98e-01</td>\n",
        "      <td> 1</td>\n",
        "      <td>                        cohesin complex</td>\n",
        "    </tr>\n",
        "    <tr>\n",
        "      <th>GO:0035861</th>\n",
        "      <td>  13</td>\n",
        "      <td> 538</td>\n",
        "      <td>  1</td>\n",
        "      <td> 61</td>\n",
        "      <td> 5.31e-04</td>\n",
        "      <td> 9.82e-01</td>\n",
        "      <td> 1</td>\n",
        "      <td>            site of double-strand break</td>\n",
        "    </tr>\n",
        "  </tbody>\n",
        "</table>\n",
        "<p>12 rows \u00d7 8 columns</p>\n",
        "</div>"
       ],
       "metadata": {},
       "output_type": "pyout",
       "prompt_number": 85,
       "text": [
        "            stats                   test                                                   name\n",
        "                B    N   b   n      chi2         p  dof                                        \n",
        "GO:0000940     12  538   8  61  3.61e+01  1.88e-09    1  condensed chromosome outer kinetochore\n",
        "GO:0000775     61  538  19  61  2.73e+01  1.71e-07    1          chromosome, centromeric region\n",
        "GO:0000776     98  538  24  61  2.17e+01  3.18e-06    1                             kinetochore\n",
        "GO:0005657     21  538   6  61  6.08e+00  1.37e-02    1                        replication fork\n",
        "GO:0000785    226  538  17  61  3.88e+00  4.89e-02    1                               chromatin\n",
        "GO:0000786     71  538   3  61  2.37e+00  1.23e-01    1                              nucleosome\n",
        "GO:0044454    273  538  24  61  1.23e+00  2.67e-01    1                 nuclear chromosome part\n",
        "GO:0010369     12  538   3  61  1.10e+00  2.94e-01    1                            chromocenter\n",
        "GO:0000781     50  538   3  61  7.76e-01  3.78e-01    1            chromosome, telomeric region\n",
        "GO:0000782     12  538   0  61  4.07e-01  5.23e-01    1                    telomere cap complex\n",
        "GO:0008278     12  538   2  61  1.65e-02  8.98e-01    1                         cohesin complex\n",
        "GO:0035861     13  538   1  61  5.31e-04  9.82e-01    1             site of double-strand break\n",
        "\n",
        "[12 rows x 8 columns]"
       ]
      }
     ],
     "prompt_number": 85
    },
    {
     "cell_type": "code",
     "collapsed": false,
     "input": [],
     "language": "python",
     "metadata": {},
     "outputs": [
      {
       "metadata": {},
       "output_type": "pyout",
       "prompt_number": 90,
       "text": [
        "stats  B       576\n",
        "       N       538\n",
        "       b        61\n",
        "       n        61\n",
        "test   chi2      0\n",
        "       p         1\n",
        "       dof       0\n",
        "dtype: float64"
       ]
      }
     ],
     "prompt_number": 90
    },
    {
     "cell_type": "code",
     "collapsed": false,
     "input": [
      "n = nodes.ix['GO:0044427']"
     ],
     "language": "python",
     "metadata": {},
     "outputs": [],
     "prompt_number": 75
    },
    {
     "cell_type": "code",
     "collapsed": false,
     "input": [
      "import pygraphviz as pgv\n",
      "\n",
      "G=pgv.AGraph(name='test', directed=True)\n",
      "G.add_edge('Hello', 'World')\n",
      "G.draw(\"miles.png\",prog='dot')"
     ],
     "language": "python",
     "metadata": {},
     "outputs": [],
     "prompt_number": 76
    },
    {
     "cell_type": "code",
     "collapsed": false,
     "input": [
      "get_enrichment_context(ontology, c, g)"
     ],
     "language": "python",
     "metadata": {},
     "outputs": [
      {
       "metadata": {},
       "output_type": "pyout",
       "prompt_number": 69,
       "text": [
        "stats  B         2.00\n",
        "       N       575.00\n",
        "       b         0.00\n",
        "       n        86.00\n",
        "test   chi2      0.16\n",
        "       p         0.69\n",
        "       dof       1.00\n",
        "dtype: float64"
       ]
      }
     ],
     "prompt_number": 69
    },
    {
     "cell_type": "code",
     "collapsed": false,
     "input": [
      "G=pgv.AGraph(name='test', directed=True)\n",
      "for c in n.children:\n",
      "    G.add_edge(n.name, c.name)\n",
      "    e = G.get_edge(n.name, c.name)\n",
      "    e.attr['color'] = 'red'"
     ],
     "language": "python",
     "metadata": {},
     "outputs": [],
     "prompt_number": 62
    },
    {
     "cell_type": "code",
     "collapsed": false,
     "input": [],
     "language": "python",
     "metadata": {},
     "outputs": [],
     "prompt_number": 39
    },
    {
     "cell_type": "code",
     "collapsed": false,
     "input": [
      "get_enrichment_context(ontology, c, p, g)"
     ],
     "language": "python",
     "metadata": {},
     "outputs": [
      {
       "metadata": {},
       "output_type": "pyout",
       "prompt_number": 91,
       "text": [
        "stats  B       6989\n",
        "       N        538\n",
        "       b         61\n",
        "       n         61\n",
        "test   chi2       0\n",
        "       p          1\n",
        "       dof        0\n",
        "dtype: float64"
       ]
      }
     ],
     "prompt_number": 91
    },
    {
     "cell_type": "code",
     "collapsed": false,
     "input": [
      "mgsa = robjects.packages.importr('mgsa')"
     ],
     "language": "python",
     "metadata": {},
     "outputs": []
    },
    {
     "cell_type": "code",
     "collapsed": false,
     "input": [
      "v = robjects.r.c(*ti(g>0))\n",
      "l = robjects.ListVector({n.id: robjects.StrVector(n.genes) for n in nodes})\n",
      "r = mgsa.mgsa(v, l)\n",
      "res = convert_robj(mgsa.setsResults(r))\n",
      "res = res.join(pd.Series({i: nodes.ix[i].name for i in res.index}, name='name'))"
     ],
     "language": "python",
     "metadata": {},
     "outputs": [],
     "prompt_number": 178
    },
    {
     "cell_type": "code",
     "collapsed": false,
     "input": [
      "res[res.estimate > .5].sort('estimate', ascending=False)"
     ],
     "language": "python",
     "metadata": {},
     "outputs": [
      {
       "html": [
        "<div style=\"max-height:1000px;max-width:1500px;overflow:auto;\">\n",
        "<table border=\"1\" class=\"dataframe\">\n",
        "  <thead>\n",
        "    <tr style=\"text-align: right;\">\n",
        "      <th></th>\n",
        "      <th>inPopulation</th>\n",
        "      <th>inStudySet</th>\n",
        "      <th>estimate</th>\n",
        "      <th>std.error</th>\n",
        "      <th>name</th>\n",
        "    </tr>\n",
        "  </thead>\n",
        "  <tbody>\n",
        "    <tr>\n",
        "      <th>GO:0005819</th>\n",
        "      <td> 136</td>\n",
        "      <td> 24</td>\n",
        "      <td> 0.99</td>\n",
        "      <td> 0.00</td>\n",
        "      <td>                   spindle</td>\n",
        "    </tr>\n",
        "    <tr>\n",
        "      <th>GO:0006260</th>\n",
        "      <td> 182</td>\n",
        "      <td> 32</td>\n",
        "      <td> 0.98</td>\n",
        "      <td> 0.00</td>\n",
        "      <td>           DNA replication</td>\n",
        "    </tr>\n",
        "    <tr>\n",
        "      <th>GO:0000278</th>\n",
        "      <td> 406</td>\n",
        "      <td> 76</td>\n",
        "      <td> 0.98</td>\n",
        "      <td> 0.02</td>\n",
        "      <td>        mitotic cell cycle</td>\n",
        "    </tr>\n",
        "    <tr>\n",
        "      <th>GO:0000280</th>\n",
        "      <td> 330</td>\n",
        "      <td> 61</td>\n",
        "      <td> 0.97</td>\n",
        "      <td> 0.01</td>\n",
        "      <td>          nuclear division</td>\n",
        "    </tr>\n",
        "    <tr>\n",
        "      <th>GO:0005539</th>\n",
        "      <td> 183</td>\n",
        "      <td> 16</td>\n",
        "      <td> 0.95</td>\n",
        "      <td> 0.01</td>\n",
        "      <td> glycosaminoglycan binding</td>\n",
        "    </tr>\n",
        "    <tr>\n",
        "      <th>GO:0044449</th>\n",
        "      <td> 182</td>\n",
        "      <td> 14</td>\n",
        "      <td> 0.75</td>\n",
        "      <td> 0.03</td>\n",
        "      <td>    contractile fiber part</td>\n",
        "    </tr>\n",
        "  </tbody>\n",
        "</table>\n",
        "<p>6 rows \u00d7 5 columns</p>\n",
        "</div>"
       ],
       "metadata": {},
       "output_type": "pyout",
       "prompt_number": 184,
       "text": [
        "            inPopulation  inStudySet  estimate  std.error                       name\n",
        "GO:0005819           136          24      0.99       0.00                    spindle\n",
        "GO:0006260           182          32      0.98       0.00            DNA replication\n",
        "GO:0000278           406          76      0.98       0.02         mitotic cell cycle\n",
        "GO:0000280           330          61      0.97       0.01           nuclear division\n",
        "GO:0005539           183          16      0.95       0.01  glycosaminoglycan binding\n",
        "GO:0044449           182          14      0.75       0.03     contractile fiber part\n",
        "\n",
        "[6 rows x 5 columns]"
       ]
      }
     ],
     "prompt_number": 184
    },
    {
     "cell_type": "code",
     "collapsed": false,
     "input": [
      "nodes.ix['GO:0005819']"
     ],
     "language": "python",
     "metadata": {},
     "outputs": [
      {
       "metadata": {},
       "output_type": "pyout",
       "prompt_number": 160,
       "text": [
        "spindle"
       ]
      }
     ],
     "prompt_number": 160
    },
    {
     "cell_type": "code",
     "collapsed": false,
     "input": [
      "G.nodes()[0].name"
     ],
     "language": "python",
     "metadata": {},
     "outputs": [
      {
       "metadata": {},
       "output_type": "pyout",
       "prompt_number": 249,
       "text": [
        "u'GO:0044427'"
       ]
      }
     ],
     "prompt_number": 249
    },
    {
     "cell_type": "code",
     "collapsed": false,
     "input": [
      "c.genes"
     ],
     "language": "python",
     "metadata": {},
     "outputs": [
      {
       "metadata": {},
       "output_type": "pyout",
       "prompt_number": 642,
       "text": [
        "array([], dtype=object)"
       ]
      }
     ],
     "prompt_number": 642
    },
    {
     "cell_type": "code",
     "collapsed": false,
     "input": [
      "from IPython.display import SVG\n",
      "import pygraphviz as pgv\n",
      "\n",
      "def local_node_view(n, cutoff=1, figsize=(10,30)):\n",
      "    G=pgv.AGraph(name='test', directed=True)\n",
      "    for c in n.get_children():\n",
      "        if len(c.genes) < cutoff:\n",
      "            continue\n",
      "        G.add_edge(n.id, c.id)\n",
      "        e = G.get_edge(n.id, c.id)\n",
      "        e.attr['penwidth'] = 1 + (1.*len(c.genes) / len(n.genes)) * 5\n",
      "        e.attr['label'] = len(c.genes)\n",
      "\n",
      "    for c in n.get_parents():\n",
      "        G.add_edge(c.id, n.id)\n",
      "        e = G.get_edge(c.id, n.id)\n",
      "        e.attr['penwidth'] = 1 + (1.*len(n.genes) / len(c.genes)) * 5\n",
      "        e.attr['label'] = len(c.genes)\n",
      "\n",
      "    for n in G.nodes():\n",
      "        n.attr['tooltip'] = ontology.nodes.ix[n.name].name\n",
      "        n.attr['label'] = ontology.nodes.ix[n.name].id\n",
      "        n.attr['style'] = 'rounded'\n",
      "        n.attr['lwidth'] = .2\n",
      "        \n",
      "    G.graph_attr['size'] = '{}, {}'.format(*figsize)\n",
      "    G.draw(\"tmp.svg\",prog='dot')\n",
      "    \n",
      "    return SVG('tmp.svg')"
     ],
     "language": "python",
     "metadata": {},
     "outputs": [],
     "prompt_number": 704
    },
    {
     "cell_type": "code",
     "collapsed": false,
     "input": [
      "local_node_view(ontology.nodes.ix['GO:0044427'], cutoff=10, figsize=(10,50))"
     ],
     "language": "python",
     "metadata": {},
     "outputs": [
      {
       "metadata": {},
       "output_type": "pyout",
       "prompt_number": 706,
       "svg": [
        "<svg height=\"83pt\" viewBox=\"0.00 0.00 720.00 82.55\" width=\"720pt\" xmlns=\"http://www.w3.org/2000/svg\" xmlns:xlink=\"http://www.w3.org/1999/xlink\">\n",
        "<g class=\"graph\" id=\"graph1\" transform=\"scale(0.358923 0.358923) rotate(0) translate(4 226)\">\n",
        "<title>test</title>\n",
        "<polygon fill=\"white\" points=\"-4,5 -4,-226 2003,-226 2003,5 -4,5\" stroke=\"white\"/>\n",
        "<!-- GO:0044427 -->\n",
        "<g class=\"node\" id=\"node1\"><title>GO:0044427</title>\n",
        "<a xlink:title=\"chromosomal part\">\n",
        "<ellipse cx=\"999\" cy=\"-111\" fill=\"none\" rx=\"75.1594\" ry=\"18.3848\" stroke=\"black\"/>\n",
        "<text font-family=\"Times Roman,serif\" font-size=\"14.00\" text-anchor=\"middle\" x=\"999\" y=\"-107.4\">GO:0044427</text>\n",
        "</a>\n",
        "</g>\n",
        "<!-- GO:0000776 -->\n",
        "<g class=\"node\" id=\"node2\"><title>GO:0000776</title>\n",
        "<a xlink:title=\"kinetochore\">\n",
        "<ellipse cx=\"75\" cy=\"-19\" fill=\"none\" rx=\"75.1594\" ry=\"18.3848\" stroke=\"black\"/>\n",
        "<text font-family=\"Times Roman,serif\" font-size=\"14.00\" text-anchor=\"middle\" x=\"75\" y=\"-15.4\">GO:0000776</text>\n",
        "</a>\n",
        "</g>\n",
        "<!-- GO:0044427&#45;&gt;GO:0000776 -->\n",
        "<g class=\"edge\" id=\"edge2\"><title>GO:0044427-&gt;GO:0000776</title>\n",
        "<path d=\"M924.207,-109.241C776.694,-104.731 438.326,-89.2181 159,-38 152.479,-36.8042 145.696,-35.4526 138.938,-34.035\" fill=\"none\" stroke=\"black\" stroke-width=\"1.85069\"/>\n",
        "<polygon fill=\"black\" points=\"139.601,-30.5976 129.089,-31.9214 138.132,-37.4418 139.601,-30.5976\" stroke=\"black\"/>\n",
        "<text font-family=\"Times Roman,serif\" font-size=\"14.00\" text-anchor=\"middle\" x=\"397.5\" y=\"-61.4\">98</text>\n",
        "</g>\n",
        "<!-- GO:0005657 -->\n",
        "<g class=\"node\" id=\"node4\"><title>GO:0005657</title>\n",
        "<a xlink:title=\"replication fork\">\n",
        "<ellipse cx=\"243\" cy=\"-19\" fill=\"none\" rx=\"75.1594\" ry=\"18.3848\" stroke=\"black\"/>\n",
        "<text font-family=\"Times Roman,serif\" font-size=\"14.00\" text-anchor=\"middle\" x=\"243\" y=\"-15.4\">GO:0005657</text>\n",
        "</a>\n",
        "</g>\n",
        "<!-- GO:0044427&#45;&gt;GO:0005657 -->\n",
        "<g class=\"edge\" id=\"edge4\"><title>GO:0044427-&gt;GO:0005657</title>\n",
        "<path d=\"M925.903,-106.575C801.926,-98.2873 542.851,-77.5792 327,-38 320.479,-36.8042 313.696,-35.4526 306.938,-34.035\" fill=\"none\" stroke=\"black\" stroke-width=\"1.18229\"/>\n",
        "<polygon fill=\"black\" points=\"307.601,-30.5976 297.089,-31.9214 306.132,-37.4418 307.601,-30.5976\" stroke=\"black\"/>\n",
        "<text font-family=\"Times Roman,serif\" font-size=\"14.00\" text-anchor=\"middle\" x=\"575.5\" y=\"-61.4\">21</text>\n",
        "</g>\n",
        "<!-- GO:0000775 -->\n",
        "<g class=\"node\" id=\"node6\"><title>GO:0000775</title>\n",
        "<a xlink:title=\"chromosome, centromeric region\">\n",
        "<ellipse cx=\"411\" cy=\"-19\" fill=\"none\" rx=\"75.1594\" ry=\"18.3848\" stroke=\"black\"/>\n",
        "<text font-family=\"Times Roman,serif\" font-size=\"14.00\" text-anchor=\"middle\" x=\"411\" y=\"-15.4\">GO:0000775</text>\n",
        "</a>\n",
        "</g>\n",
        "<!-- GO:0044427&#45;&gt;GO:0000775 -->\n",
        "<g class=\"edge\" id=\"edge6\"><title>GO:0044427-&gt;GO:0000775</title>\n",
        "<path d=\"M931.009,-103.154C833.877,-91.4926 649.991,-67.7315 495,-38 488.736,-36.7985 482.228,-35.4698 475.73,-34.0898\" fill=\"none\" stroke=\"black\" stroke-width=\"1.52951\"/>\n",
        "<polygon fill=\"black\" points=\"476.079,-30.5843 465.565,-31.8898 474.598,-37.4259 476.079,-30.5843\" stroke=\"black\"/>\n",
        "<text font-family=\"Times Roman,serif\" font-size=\"14.00\" text-anchor=\"middle\" x=\"711.5\" y=\"-61.4\">61</text>\n",
        "</g>\n",
        "<!-- GO:0000781 -->\n",
        "<g class=\"node\" id=\"node8\"><title>GO:0000781</title>\n",
        "<a xlink:title=\"chromosome, telomeric region\">\n",
        "<ellipse cx=\"579\" cy=\"-19\" fill=\"none\" rx=\"75.1594\" ry=\"18.3848\" stroke=\"black\"/>\n",
        "<text font-family=\"Times Roman,serif\" font-size=\"14.00\" text-anchor=\"middle\" x=\"579\" y=\"-15.4\">GO:0000781</text>\n",
        "</a>\n",
        "</g>\n",
        "<!-- GO:0044427&#45;&gt;GO:0000781 -->\n",
        "<g class=\"edge\" id=\"edge8\"><title>GO:0044427-&gt;GO:0000781</title>\n",
        "<path d=\"M942.189,-98.8272C875.348,-84.466 761.045,-59.7838 663,-38 656.966,-36.6592 650.689,-35.256 644.407,-33.8454\" fill=\"none\" stroke=\"black\" stroke-width=\"1.43403\"/>\n",
        "<polygon fill=\"black\" points=\"645.087,-30.4111 634.563,-31.6307 643.551,-37.2404 645.087,-30.4111\" stroke=\"black\"/>\n",
        "<text font-family=\"Times Roman,serif\" font-size=\"14.00\" text-anchor=\"middle\" x=\"829.5\" y=\"-61.4\">50</text>\n",
        "</g>\n",
        "<!-- GO:0000786 -->\n",
        "<g class=\"node\" id=\"node10\"><title>GO:0000786</title>\n",
        "<a xlink:title=\"nucleosome\">\n",
        "<ellipse cx=\"747\" cy=\"-19\" fill=\"none\" rx=\"75.1594\" ry=\"18.3848\" stroke=\"black\"/>\n",
        "<text font-family=\"Times Roman,serif\" font-size=\"14.00\" text-anchor=\"middle\" x=\"747\" y=\"-15.4\">GO:0000786</text>\n",
        "</a>\n",
        "</g>\n",
        "<!-- GO:0044427&#45;&gt;GO:0000786 -->\n",
        "<g class=\"edge\" id=\"edge10\"><title>GO:0044427-&gt;GO:0000786</title>\n",
        "<path d=\"M956.821,-95.6013C913.392,-79.7463 845.649,-55.0149 798.947,-37.9647\" fill=\"none\" stroke=\"black\" stroke-width=\"1.61632\"/>\n",
        "<polygon fill=\"black\" points=\"799.911,-34.5907 789.317,-34.449 797.51,-41.1662 799.911,-34.5907\" stroke=\"black\"/>\n",
        "<text font-family=\"Times Roman,serif\" font-size=\"14.00\" text-anchor=\"middle\" x=\"905.5\" y=\"-61.4\">71</text>\n",
        "</g>\n",
        "<!-- GO:0008278 -->\n",
        "<g class=\"node\" id=\"node12\"><title>GO:0008278</title>\n",
        "<a xlink:title=\"cohesin complex\">\n",
        "<ellipse cx=\"915\" cy=\"-19\" fill=\"none\" rx=\"75.1594\" ry=\"18.3848\" stroke=\"black\"/>\n",
        "<text font-family=\"Times Roman,serif\" font-size=\"14.00\" text-anchor=\"middle\" x=\"915\" y=\"-15.4\">GO:0008278</text>\n",
        "</a>\n",
        "</g>\n",
        "<!-- GO:0044427&#45;&gt;GO:0008278 -->\n",
        "<g class=\"edge\" id=\"edge12\"><title>GO:0044427-&gt;GO:0008278</title>\n",
        "<path d=\"M982.404,-92.8238C969.864,-79.089 952.483,-60.0533 938.513,-44.7519\" fill=\"none\" stroke=\"black\" stroke-width=\"1.10417\"/>\n",
        "<polygon fill=\"black\" points=\"940.889,-42.1634 931.561,-37.1385 935.719,-46.8833 940.889,-42.1634\" stroke=\"black\"/>\n",
        "<text font-family=\"Times Roman,serif\" font-size=\"14.00\" text-anchor=\"middle\" x=\"974.5\" y=\"-61.4\">12</text>\n",
        "</g>\n",
        "<!-- GO:0000782 -->\n",
        "<g class=\"node\" id=\"node14\"><title>GO:0000782</title>\n",
        "<a xlink:title=\"telomere cap complex\">\n",
        "<ellipse cx=\"1083\" cy=\"-19\" fill=\"none\" rx=\"75.1594\" ry=\"18.3848\" stroke=\"black\"/>\n",
        "<text font-family=\"Times Roman,serif\" font-size=\"14.00\" text-anchor=\"middle\" x=\"1083\" y=\"-15.4\">GO:0000782</text>\n",
        "</a>\n",
        "</g>\n",
        "<!-- GO:0044427&#45;&gt;GO:0000782 -->\n",
        "<g class=\"edge\" id=\"edge14\"><title>GO:0044427-&gt;GO:0000782</title>\n",
        "<path d=\"M1015.6,-92.8238C1028.14,-79.089 1045.52,-60.0533 1059.49,-44.7519\" fill=\"none\" stroke=\"black\" stroke-width=\"1.10417\"/>\n",
        "<polygon fill=\"black\" points=\"1062.28,-46.8833 1066.44,-37.1385 1057.11,-42.1634 1062.28,-46.8833\" stroke=\"black\"/>\n",
        "<text font-family=\"Times Roman,serif\" font-size=\"14.00\" text-anchor=\"middle\" x=\"1057.5\" y=\"-61.4\">12</text>\n",
        "</g>\n",
        "<!-- GO:0000785 -->\n",
        "<g class=\"node\" id=\"node16\"><title>GO:0000785</title>\n",
        "<a xlink:title=\"chromatin\">\n",
        "<ellipse cx=\"1251\" cy=\"-19\" fill=\"none\" rx=\"75.1594\" ry=\"18.3848\" stroke=\"black\"/>\n",
        "<text font-family=\"Times Roman,serif\" font-size=\"14.00\" text-anchor=\"middle\" x=\"1251\" y=\"-15.4\">GO:0000785</text>\n",
        "</a>\n",
        "</g>\n",
        "<!-- GO:0044427&#45;&gt;GO:0000785 -->\n",
        "<g class=\"edge\" id=\"edge16\"><title>GO:0044427-&gt;GO:0000785</title>\n",
        "<path d=\"M1041.18,-95.6013C1084.61,-79.7463 1152.35,-55.0149 1199.05,-37.9647\" fill=\"none\" stroke=\"black\" stroke-width=\"2.96181\"/>\n",
        "<polygon fill=\"black\" points=\"1200.49,-41.1662 1208.68,-34.449 1198.09,-34.5907 1200.49,-41.1662\" stroke=\"black\"/>\n",
        "<text font-family=\"Times Roman,serif\" font-size=\"14.00\" text-anchor=\"middle\" x=\"1161\" y=\"-61.4\">226</text>\n",
        "</g>\n",
        "<!-- GO:0044454 -->\n",
        "<g class=\"node\" id=\"node18\"><title>GO:0044454</title>\n",
        "<a xlink:title=\"nuclear chromosome part\">\n",
        "<ellipse cx=\"1419\" cy=\"-19\" fill=\"none\" rx=\"75.1594\" ry=\"18.3848\" stroke=\"black\"/>\n",
        "<text font-family=\"Times Roman,serif\" font-size=\"14.00\" text-anchor=\"middle\" x=\"1419\" y=\"-15.4\">GO:0044454</text>\n",
        "</a>\n",
        "</g>\n",
        "<!-- GO:0044427&#45;&gt;GO:0044454 -->\n",
        "<g class=\"edge\" id=\"edge18\"><title>GO:0044427-&gt;GO:0044454</title>\n",
        "<path d=\"M1057.44,-99.3348C1092.69,-92.2118 1138.47,-82.8081 1179,-74 1238.67,-61.0325 1306.47,-45.4129 1354.75,-34.1378\" fill=\"none\" stroke=\"black\" stroke-width=\"3.36979\"/>\n",
        "<polygon fill=\"black\" points=\"1355.81,-37.4853 1364.75,-31.8003 1354.21,-30.6692 1355.81,-37.4853\" stroke=\"black\"/>\n",
        "<text font-family=\"Times Roman,serif\" font-size=\"14.00\" text-anchor=\"middle\" x=\"1272\" y=\"-61.4\">273</text>\n",
        "</g>\n",
        "<!-- GO:0010369 -->\n",
        "<g class=\"node\" id=\"node20\"><title>GO:0010369</title>\n",
        "<a xlink:title=\"chromocenter\">\n",
        "<ellipse cx=\"1587\" cy=\"-19\" fill=\"none\" rx=\"75.1594\" ry=\"18.3848\" stroke=\"black\"/>\n",
        "<text font-family=\"Times Roman,serif\" font-size=\"14.00\" text-anchor=\"middle\" x=\"1587\" y=\"-15.4\">GO:0010369</text>\n",
        "</a>\n",
        "</g>\n",
        "<!-- GO:0044427&#45;&gt;GO:0010369 -->\n",
        "<g class=\"edge\" id=\"edge20\"><title>GO:0044427-&gt;GO:0010369</title>\n",
        "<path d=\"M1067.44,-103.337C1164.74,-91.9348 1348.39,-68.5275 1503,-38 1509.26,-36.7646 1515.76,-35.4133 1522.26,-34.0192\" fill=\"none\" stroke=\"black\" stroke-width=\"1.10417\"/>\n",
        "<polygon fill=\"black\" points=\"1523.39,-37.3535 1532.42,-31.8035 1521.9,-30.5141 1523.39,-37.3535\" stroke=\"black\"/>\n",
        "<text font-family=\"Times Roman,serif\" font-size=\"14.00\" text-anchor=\"middle\" x=\"1402.5\" y=\"-61.4\">12</text>\n",
        "</g>\n",
        "<!-- GO:0035861 -->\n",
        "<g class=\"node\" id=\"node22\"><title>GO:0035861</title>\n",
        "<a xlink:title=\"site of double-strand break\">\n",
        "<ellipse cx=\"1755\" cy=\"-19\" fill=\"none\" rx=\"75.1594\" ry=\"18.3848\" stroke=\"black\"/>\n",
        "<text font-family=\"Times Roman,serif\" font-size=\"14.00\" text-anchor=\"middle\" x=\"1755\" y=\"-15.4\">GO:0035861</text>\n",
        "</a>\n",
        "</g>\n",
        "<!-- GO:0044427&#45;&gt;GO:0035861 -->\n",
        "<g class=\"edge\" id=\"edge22\"><title>GO:0044427-&gt;GO:0035861</title>\n",
        "<path d=\"M1072.1,-106.575C1196.07,-98.2873 1455.15,-77.5792 1671,-38 1677.52,-36.8042 1684.3,-35.4526 1691.06,-34.035\" fill=\"none\" stroke=\"black\" stroke-width=\"1.11285\"/>\n",
        "<polygon fill=\"black\" points=\"1691.87,-37.4418 1700.91,-31.9214 1690.4,-30.5976 1691.87,-37.4418\" stroke=\"black\"/>\n",
        "<text font-family=\"Times Roman,serif\" font-size=\"14.00\" text-anchor=\"middle\" x=\"1570.5\" y=\"-61.4\">13</text>\n",
        "</g>\n",
        "<!-- GO:0000940 -->\n",
        "<g class=\"node\" id=\"node24\"><title>GO:0000940</title>\n",
        "<a xlink:title=\"condensed chromosome outer kinetochore\">\n",
        "<ellipse cx=\"1923\" cy=\"-19\" fill=\"none\" rx=\"75.1594\" ry=\"18.3848\" stroke=\"black\"/>\n",
        "<text font-family=\"Times Roman,serif\" font-size=\"14.00\" text-anchor=\"middle\" x=\"1923\" y=\"-15.4\">GO:0000940</text>\n",
        "</a>\n",
        "</g>\n",
        "<!-- GO:0044427&#45;&gt;GO:0000940 -->\n",
        "<g class=\"edge\" id=\"edge24\"><title>GO:0044427-&gt;GO:0000940</title>\n",
        "<path d=\"M1073.79,-109.241C1221.31,-104.731 1559.67,-89.2181 1839,-38 1845.52,-36.8042 1852.3,-35.4526 1859.06,-34.035\" fill=\"none\" stroke=\"black\" stroke-width=\"1.10417\"/>\n",
        "<polygon fill=\"black\" points=\"1859.87,-37.4418 1868.91,-31.9214 1858.4,-30.5976 1859.87,-37.4418\" stroke=\"black\"/>\n",
        "<text font-family=\"Times Roman,serif\" font-size=\"14.00\" text-anchor=\"middle\" x=\"1734.5\" y=\"-61.4\">12</text>\n",
        "</g>\n",
        "<!-- GO:0044446 -->\n",
        "<g class=\"node\" id=\"node26\"><title>GO:0044446</title>\n",
        "<a xlink:title=\"intracellular organelle part\">\n",
        "<ellipse cx=\"999\" cy=\"-203\" fill=\"none\" rx=\"75.1594\" ry=\"18.3848\" stroke=\"black\"/>\n",
        "<text font-family=\"Times Roman,serif\" font-size=\"14.00\" text-anchor=\"middle\" x=\"999\" y=\"-199.4\">GO:0044446</text>\n",
        "</a>\n",
        "</g>\n",
        "<!-- GO:0044446&#45;&gt;GO:0044427 -->\n",
        "<g class=\"edge\" id=\"edge26\"><title>GO:0044446-&gt;GO:0044427</title>\n",
        "<path d=\"M999,-184.382C999,-171.538 999,-154.216 999,-139.627\" fill=\"none\" stroke=\"black\" stroke-width=\"1.41208\"/>\n",
        "<polygon fill=\"black\" points=\"1002.5,-139.59 999,-129.59 995.5,-139.59 1002.5,-139.59\" stroke=\"black\"/>\n",
        "<text font-family=\"Times Roman,serif\" font-size=\"14.00\" text-anchor=\"middle\" x=\"1017.5\" y=\"-153.4\">6989</text>\n",
        "</g>\n",
        "</g>\n",
        "</svg>"
       ],
       "text": [
        "<IPython.core.display.SVG at 0x6c13c390>"
       ]
      }
     ],
     "prompt_number": 706
    },
    {
     "cell_type": "code",
     "collapsed": false,
     "input": [
      "local_node_view(n)"
     ],
     "language": "python",
     "metadata": {},
     "outputs": [
      {
       "metadata": {},
       "output_type": "pyout",
       "prompt_number": 695,
       "svg": [
        "<svg height=\"200pt\" viewBox=\"0.00 0.00 720.00 199.52\" width=\"720pt\" xmlns=\"http://www.w3.org/2000/svg\" xmlns:xlink=\"http://www.w3.org/1999/xlink\">\n",
        "<g class=\"graph\" id=\"graph1\" transform=\"scale(0.86747 0.86747) rotate(0) translate(4 226)\">\n",
        "<title>test</title>\n",
        "<polygon fill=\"white\" points=\"-4,5 -4,-226 827,-226 827,5 -4,5\" stroke=\"white\"/>\n",
        "<!-- GO:0000785 -->\n",
        "<g class=\"node\" id=\"node1\"><title>GO:0000785</title>\n",
        "<a xlink:title=\"chromatin\">\n",
        "<ellipse cx=\"411\" cy=\"-111\" fill=\"none\" rx=\"75.1594\" ry=\"18.3848\" stroke=\"black\"/>\n",
        "<text font-family=\"Times Roman,serif\" font-size=\"14.00\" text-anchor=\"middle\" x=\"411\" y=\"-107.4\">GO:0000785</text>\n",
        "</a>\n",
        "</g>\n",
        "<!-- GO:0000791 -->\n",
        "<g class=\"node\" id=\"node2\"><title>GO:0000791</title>\n",
        "<a xlink:title=\"euchromatin\">\n",
        "<ellipse cx=\"75\" cy=\"-19\" fill=\"none\" rx=\"75.1594\" ry=\"18.3848\" stroke=\"black\"/>\n",
        "<text font-family=\"Times Roman,serif\" font-size=\"14.00\" text-anchor=\"middle\" x=\"75\" y=\"-15.4\">GO:0000791</text>\n",
        "</a>\n",
        "</g>\n",
        "<!-- GO:0000785&#45;&gt;GO:0000791 -->\n",
        "<g class=\"edge\" id=\"edge2\"><title>GO:0000785-&gt;GO:0000791</title>\n",
        "<path d=\"M360.697,-97.2267C300.484,-80.7398 199.734,-53.1534 135.376,-35.5316\" fill=\"none\" stroke=\"black\" stroke-width=\"1.42035\"/>\n",
        "<polygon fill=\"black\" points=\"135.941,-32.0574 125.371,-32.7922 134.092,-38.8089 135.941,-32.0574\" stroke=\"black\"/>\n",
        "<text font-family=\"Times Roman,serif\" font-size=\"14.00\" text-anchor=\"middle\" x=\"283.5\" y=\"-61.4\">19</text>\n",
        "</g>\n",
        "<!-- GO:0035327 -->\n",
        "<g class=\"node\" id=\"node4\"><title>GO:0035327</title>\n",
        "<a xlink:title=\"transcriptionally active chromatin\">\n",
        "<ellipse cx=\"243\" cy=\"-19\" fill=\"none\" rx=\"75.1594\" ry=\"18.3848\" stroke=\"black\"/>\n",
        "<text font-family=\"Times Roman,serif\" font-size=\"14.00\" text-anchor=\"middle\" x=\"243\" y=\"-15.4\">GO:0035327</text>\n",
        "</a>\n",
        "</g>\n",
        "<!-- GO:0000785&#45;&gt;GO:0035327 -->\n",
        "<g class=\"edge\" id=\"edge4\"><title>GO:0000785-&gt;GO:0035327</title>\n",
        "<path d=\"M380.186,-94.1258C352.801,-79.1293 312.604,-57.1167 282.795,-40.7923\" fill=\"none\" stroke=\"black\" stroke-width=\"1.24336\"/>\n",
        "<polygon fill=\"black\" points=\"284.355,-37.6561 273.902,-35.9228 280.992,-43.7958 284.355,-37.6561\" stroke=\"black\"/>\n",
        "<text font-family=\"Times Roman,serif\" font-size=\"14.00\" text-anchor=\"middle\" x=\"352.5\" y=\"-61.4\">11</text>\n",
        "</g>\n",
        "<!-- GO:0000790 -->\n",
        "<g class=\"node\" id=\"node6\"><title>GO:0000790</title>\n",
        "<a xlink:title=\"nuclear chromatin\">\n",
        "<ellipse cx=\"411\" cy=\"-19\" fill=\"none\" rx=\"75.1594\" ry=\"18.3848\" stroke=\"black\"/>\n",
        "<text font-family=\"Times Roman,serif\" font-size=\"14.00\" text-anchor=\"middle\" x=\"411\" y=\"-15.4\">GO:0000790</text>\n",
        "</a>\n",
        "</g>\n",
        "<!-- GO:0000785&#45;&gt;GO:0000790 -->\n",
        "<g class=\"edge\" id=\"edge6\"><title>GO:0000785-&gt;GO:0000790</title>\n",
        "<path d=\"M411,-92.3824C411,-79.5383 411,-62.2161 411,-47.6269\" fill=\"none\" stroke=\"black\" stroke-width=\"3.85398\"/>\n",
        "<polygon fill=\"black\" points=\"414.5,-47.5898 411,-37.5899 407.5,-47.5899 414.5,-47.5898\" stroke=\"black\"/>\n",
        "<text font-family=\"Times Roman,serif\" font-size=\"14.00\" text-anchor=\"middle\" x=\"425\" y=\"-61.4\">129</text>\n",
        "</g>\n",
        "<!-- GO:0000789 -->\n",
        "<g class=\"node\" id=\"node8\"><title>GO:0000789</title>\n",
        "<a xlink:title=\"cytoplasmic chromatin\">\n",
        "<ellipse cx=\"579\" cy=\"-19\" fill=\"none\" rx=\"75.1594\" ry=\"18.3848\" stroke=\"black\"/>\n",
        "<text font-family=\"Times Roman,serif\" font-size=\"14.00\" text-anchor=\"middle\" x=\"579\" y=\"-15.4\">GO:0000789</text>\n",
        "</a>\n",
        "</g>\n",
        "<!-- GO:0000785&#45;&gt;GO:0000789 -->\n",
        "<g class=\"edge\" id=\"edge8\"><title>GO:0000785-&gt;GO:0000789</title>\n",
        "<path d=\"M441.814,-94.1258C469.199,-79.1293 509.396,-57.1167 539.205,-40.7923\" fill=\"none\" stroke=\"black\" stroke-width=\"1.02212\"/>\n",
        "<polygon fill=\"black\" points=\"541.008,-43.7958 548.098,-35.9228 537.645,-37.6561 541.008,-43.7958\" stroke=\"black\"/>\n",
        "<text font-family=\"Times Roman,serif\" font-size=\"14.00\" text-anchor=\"middle\" x=\"515\" y=\"-61.4\">1</text>\n",
        "</g>\n",
        "<!-- GO:0000792 -->\n",
        "<g class=\"node\" id=\"node10\"><title>GO:0000792</title>\n",
        "<a xlink:title=\"heterochromatin\">\n",
        "<ellipse cx=\"747\" cy=\"-19\" fill=\"none\" rx=\"75.1594\" ry=\"18.3848\" stroke=\"black\"/>\n",
        "<text font-family=\"Times Roman,serif\" font-size=\"14.00\" text-anchor=\"middle\" x=\"747\" y=\"-15.4\">GO:0000792</text>\n",
        "</a>\n",
        "</g>\n",
        "<!-- GO:0000785&#45;&gt;GO:0000792 -->\n",
        "<g class=\"edge\" id=\"edge10\"><title>GO:0000785-&gt;GO:0000792</title>\n",
        "<path d=\"M461.303,-97.2267C521.516,-80.7398 622.266,-53.1534 686.624,-35.5316\" fill=\"none\" stroke=\"black\" stroke-width=\"2.30531\"/>\n",
        "<polygon fill=\"black\" points=\"687.908,-38.8089 696.629,-32.7922 686.059,-32.0574 687.908,-38.8089\" stroke=\"black\"/>\n",
        "<text font-family=\"Times Roman,serif\" font-size=\"14.00\" text-anchor=\"middle\" x=\"618.5\" y=\"-61.4\">59</text>\n",
        "</g>\n",
        "<!-- GO:0044427 -->\n",
        "<g class=\"node\" id=\"node12\"><title>GO:0044427</title>\n",
        "<a xlink:title=\"chromosomal part\">\n",
        "<ellipse cx=\"411\" cy=\"-203\" fill=\"none\" rx=\"75.1594\" ry=\"18.3848\" stroke=\"black\"/>\n",
        "<text font-family=\"Times Roman,serif\" font-size=\"14.00\" text-anchor=\"middle\" x=\"411\" y=\"-199.4\">GO:0044427</text>\n",
        "</a>\n",
        "</g>\n",
        "<!-- GO:0044427&#45;&gt;GO:0000785 -->\n",
        "<g class=\"edge\" id=\"edge12\"><title>GO:0044427-&gt;GO:0000785</title>\n",
        "<path d=\"M411,-184.382C411,-171.538 411,-154.216 411,-139.627\" fill=\"none\" stroke=\"black\" stroke-width=\"2.96181\"/>\n",
        "<polygon fill=\"black\" points=\"414.5,-139.59 411,-129.59 407.5,-139.59 414.5,-139.59\" stroke=\"black\"/>\n",
        "<text font-family=\"Times Roman,serif\" font-size=\"14.00\" text-anchor=\"middle\" x=\"425\" y=\"-153.4\">576</text>\n",
        "</g>\n",
        "</g>\n",
        "</svg>"
       ],
       "text": [
        "<IPython.core.display.SVG at 0x6bf41ed0>"
       ]
      }
     ],
     "prompt_number": 695
    },
    {
     "cell_type": "code",
     "collapsed": false,
     "input": [
      "n = nodes.ix['GO:0005819']\n",
      "n.get_children()"
     ],
     "language": "python",
     "metadata": {},
     "outputs": [
      {
       "metadata": {},
       "output_type": "pyout",
       "prompt_number": 653,
       "text": [
        "GO:0072686    mitotic spindle\n",
        "GO:0072687    meiotic spindle\n",
        "dtype: object"
       ]
      }
     ],
     "prompt_number": 653
    },
    {
     "cell_type": "code",
     "collapsed": false,
     "input": [
      "class N2(object):\n",
      "    def __init__(self, n):\n",
      "        self.Node = n\n",
      "        \n",
      "    def show(self):\n",
      "        return SVG('miles.svg')"
     ],
     "language": "python",
     "metadata": {},
     "outputs": [],
     "prompt_number": 534
    },
    {
     "cell_type": "code",
     "collapsed": false,
     "input": [
      "n = nodes.ix['GO:0005819']"
     ],
     "language": "python",
     "metadata": {},
     "outputs": [],
     "prompt_number": 613
    },
    {
     "cell_type": "code",
     "collapsed": false,
     "input": [
      "N2(n).show()"
     ],
     "language": "python",
     "metadata": {},
     "outputs": [
      {
       "metadata": {},
       "output_type": "pyout",
       "prompt_number": 536,
       "svg": [
        "<svg height=\"194pt\" viewBox=\"0.00 0.00 494.00 194.00\" width=\"494pt\" xmlns=\"http://www.w3.org/2000/svg\" xmlns:xlink=\"http://www.w3.org/1999/xlink\">\n",
        "<g class=\"graph\" id=\"graph1\" transform=\"scale(1 1) rotate(0) translate(4 190)\">\n",
        "<title>test</title>\n",
        "<polygon fill=\"white\" points=\"-4,5 -4,-190 491,-190 491,5 -4,5\" stroke=\"white\"/>\n",
        "<!-- GO:0005819 -->\n",
        "<g class=\"node\" id=\"node1\"><title>GO:0005819</title>\n",
        "<a xlink:title=\"spindle\">\n",
        "<ellipse cx=\"243\" cy=\"-93\" fill=\"none\" rx=\"75.1594\" ry=\"18.3848\" stroke=\"black\"/>\n",
        "<text font-family=\"Times Roman,serif\" font-size=\"14.00\" text-anchor=\"middle\" x=\"243\" y=\"-89.4\">GO:0005819</text>\n",
        "</a>\n",
        "</g>\n",
        "<!-- GO:0000278 -->\n",
        "<g class=\"node\" id=\"node2\"><title>GO:0000278</title>\n",
        "<a xlink:title=\"mitotic cell cycle\">\n",
        "<ellipse cx=\"243\" cy=\"-19\" fill=\"none\" rx=\"75.1594\" ry=\"18.3848\" stroke=\"black\"/>\n",
        "<text font-family=\"Times Roman,serif\" font-size=\"14.00\" text-anchor=\"middle\" x=\"243\" y=\"-15.4\">GO:0000278</text>\n",
        "</a>\n",
        "</g>\n",
        "<!-- GO:0005819&#45;&gt;GO:0000278 -->\n",
        "<g class=\"edge\" id=\"edge2\"><title>GO:0005819-&gt;GO:0000278</title>\n",
        "<path d=\"M243,-74.3267C243,-66.2639 243,-56.6477 243,-47.7115\" fill=\"none\" stroke=\"black\" stroke-width=\"2.98395\"/>\n",
        "<polygon fill=\"black\" points=\"246.5,-47.6673 243,-37.6674 239.5,-47.6674 246.5,-47.6673\" stroke=\"black\"/>\n",
        "</g>\n",
        "<!-- GO:0043232 -->\n",
        "<g class=\"node\" id=\"node4\"><title>GO:0043232</title>\n",
        "<a xlink:title=\"intracellular non-membrane-bounded organelle\">\n",
        "<ellipse cx=\"75\" cy=\"-167\" fill=\"none\" rx=\"75.1594\" ry=\"18.3848\" stroke=\"black\"/>\n",
        "<text font-family=\"Times Roman,serif\" font-size=\"14.00\" text-anchor=\"middle\" x=\"75\" y=\"-163.4\">GO:0043232</text>\n",
        "</a>\n",
        "</g>\n",
        "<!-- GO:0043232&#45;&gt;GO:0005819 -->\n",
        "<g class=\"edge\" id=\"edge4\"><title>GO:0043232-&gt;GO:0005819</title>\n",
        "<path d=\"M111.868,-150.76C136.925,-139.724 170.254,-125.043 197.04,-113.244\" fill=\"none\" stroke=\"black\"/>\n",
        "<polygon fill=\"black\" points=\"198.477,-116.436 206.218,-109.202 195.655,-110.03 198.477,-116.436\" stroke=\"black\"/>\n",
        "</g>\n",
        "<!-- GO:0043234 -->\n",
        "<g class=\"node\" id=\"node6\"><title>GO:0043234</title>\n",
        "<a xlink:title=\"protein complex\">\n",
        "<ellipse cx=\"243\" cy=\"-167\" fill=\"none\" rx=\"75.1594\" ry=\"18.3848\" stroke=\"black\"/>\n",
        "<text font-family=\"Times Roman,serif\" font-size=\"14.00\" text-anchor=\"middle\" x=\"243\" y=\"-163.4\">GO:0043234</text>\n",
        "</a>\n",
        "</g>\n",
        "<!-- GO:0043234&#45;&gt;GO:0005819 -->\n",
        "<g class=\"edge\" id=\"edge6\"><title>GO:0043234-&gt;GO:0005819</title>\n",
        "<path d=\"M243,-148.327C243,-140.264 243,-130.648 243,-121.711\" fill=\"none\" stroke=\"black\"/>\n",
        "<polygon fill=\"black\" points=\"246.5,-121.667 243,-111.667 239.5,-121.667 246.5,-121.667\" stroke=\"black\"/>\n",
        "</g>\n",
        "<!-- GO:0044430 -->\n",
        "<g class=\"node\" id=\"node8\"><title>GO:0044430</title>\n",
        "<a xlink:title=\"cytoskeletal part\">\n",
        "<ellipse cx=\"411\" cy=\"-167\" fill=\"none\" rx=\"75.1594\" ry=\"18.3848\" stroke=\"black\"/>\n",
        "<text font-family=\"Times Roman,serif\" font-size=\"14.00\" text-anchor=\"middle\" x=\"411\" y=\"-163.4\">GO:0044430</text>\n",
        "</a>\n",
        "</g>\n",
        "<!-- GO:0044430&#45;&gt;GO:0005819 -->\n",
        "<g class=\"edge\" id=\"edge8\"><title>GO:0044430-&gt;GO:0005819</title>\n",
        "<path d=\"M374.132,-150.76C349.075,-139.724 315.746,-125.043 288.96,-113.244\" fill=\"none\" stroke=\"black\"/>\n",
        "<polygon fill=\"black\" points=\"290.345,-110.03 279.782,-109.202 287.523,-116.436 290.345,-110.03\" stroke=\"black\"/>\n",
        "</g>\n",
        "</g>\n",
        "</svg>"
       ],
       "text": [
        "<IPython.core.display.SVG at 0x6ea0ddd0>"
       ]
      }
     ],
     "prompt_number": 536
    },
    {
     "cell_type": "code",
     "collapsed": false,
     "input": [
      "n"
     ],
     "language": "python",
     "metadata": {},
     "outputs": [
      {
       "metadata": {},
       "output_type": "pyout",
       "prompt_number": 612,
       "text": [
        "u'GO:0044430'"
       ]
      }
     ],
     "prompt_number": 612
    },
    {
     "cell_type": "code",
     "collapsed": false,
     "input": [
      "n.get_parents()"
     ],
     "language": "python",
     "metadata": {},
     "outputs": [
      {
       "metadata": {},
       "output_type": "pyout",
       "prompt_number": 597,
       "text": [
        "GO:0043232    intracellular non-membrane-bounded organelle\n",
        "GO:0043234                                 protein complex\n",
        "GO:0044430                               cytoskeletal part\n",
        "dtype: object"
       ]
      }
     ],
     "prompt_number": 597
    },
    {
     "cell_type": "code",
     "collapsed": false,
     "input": [
      "def describe(self):\n",
      "    s = pd.Series({'name': self.name, '# genes': len(self.genes), \n",
      "                   '# parents': len(self.get_parents()),\n",
      "                   '# children': len(self.children)}, name=self.id)\n",
      "    return s"
     ],
     "language": "python",
     "metadata": {},
     "outputs": [],
     "prompt_number": 601
    },
    {
     "cell_type": "code",
     "collapsed": false,
     "input": [
      "n = ontology.nodes.ix['GO:0000785']\n",
      "nn = pd.DataFrame(describe(n)).T\n",
      "nc = pd.DataFrame({c.id: describe(c) for c in n.get_children() if len(c.genes) > 0}).T\n",
      "nc = nc.sort('# genes', ascending=False)\n",
      "np = pd.DataFrame({p.id: describe(p) for p in n.get_parents()}).T"
     ],
     "language": "python",
     "metadata": {},
     "outputs": [],
     "prompt_number": 690
    },
    {
     "cell_type": "code",
     "collapsed": false,
     "input": [
      "nt = pd.concat([nn, np, nc], keys=['node', 'parents', 'children'])\n",
      "nt = nt[['name','# children', '# genes', '# parents']]\n",
      "nt"
     ],
     "language": "python",
     "metadata": {},
     "outputs": [
      {
       "html": [
        "<div style=\"max-height:1000px;max-width:1500px;overflow:auto;\">\n",
        "<table border=\"1\" class=\"dataframe\">\n",
        "  <thead>\n",
        "    <tr style=\"text-align: right;\">\n",
        "      <th></th>\n",
        "      <th></th>\n",
        "      <th>name</th>\n",
        "      <th># children</th>\n",
        "      <th># genes</th>\n",
        "      <th># parents</th>\n",
        "    </tr>\n",
        "  </thead>\n",
        "  <tbody>\n",
        "    <tr>\n",
        "      <th>node</th>\n",
        "      <th>GO:0000785</th>\n",
        "      <td>                          chromatin</td>\n",
        "      <td>  6</td>\n",
        "      <td> 226</td>\n",
        "      <td> 1</td>\n",
        "    </tr>\n",
        "    <tr>\n",
        "      <th>parents</th>\n",
        "      <th>GO:0044427</th>\n",
        "      <td>                   chromosomal part</td>\n",
        "      <td> 49</td>\n",
        "      <td> 576</td>\n",
        "      <td> 1</td>\n",
        "    </tr>\n",
        "    <tr>\n",
        "      <th rowspan=\"5\" valign=\"top\">children</th>\n",
        "      <th>GO:0000790</th>\n",
        "      <td>                  nuclear chromatin</td>\n",
        "      <td>  5</td>\n",
        "      <td> 129</td>\n",
        "      <td> 2</td>\n",
        "    </tr>\n",
        "    <tr>\n",
        "      <th>GO:0000792</th>\n",
        "      <td>                    heterochromatin</td>\n",
        "      <td>  6</td>\n",
        "      <td>  59</td>\n",
        "      <td> 1</td>\n",
        "    </tr>\n",
        "    <tr>\n",
        "      <th>GO:0000791</th>\n",
        "      <td>                        euchromatin</td>\n",
        "      <td>  1</td>\n",
        "      <td>  19</td>\n",
        "      <td> 1</td>\n",
        "    </tr>\n",
        "    <tr>\n",
        "      <th>GO:0035327</th>\n",
        "      <td> transcriptionally active chromatin</td>\n",
        "      <td>  0</td>\n",
        "      <td>  11</td>\n",
        "      <td> 1</td>\n",
        "    </tr>\n",
        "    <tr>\n",
        "      <th>GO:0000789</th>\n",
        "      <td>              cytoplasmic chromatin</td>\n",
        "      <td>  0</td>\n",
        "      <td>   1</td>\n",
        "      <td> 2</td>\n",
        "    </tr>\n",
        "  </tbody>\n",
        "</table>\n",
        "<p>7 rows \u00d7 4 columns</p>\n",
        "</div>"
       ],
       "metadata": {},
       "output_type": "pyout",
       "prompt_number": 691,
       "text": [
        "                                                   name # children # genes # parents\n",
        "node     GO:0000785                           chromatin          6     226         1\n",
        "parents  GO:0044427                    chromosomal part         49     576         1\n",
        "children GO:0000790                   nuclear chromatin          5     129         2\n",
        "         GO:0000792                     heterochromatin          6      59         1\n",
        "         GO:0000791                         euchromatin          1      19         1\n",
        "         GO:0035327  transcriptionally active chromatin          0      11         1\n",
        "         GO:0000789               cytoplasmic chromatin          0       1         2\n",
        "\n",
        "[7 rows x 4 columns]"
       ]
      }
     ],
     "prompt_number": 691
    },
    {
     "cell_type": "code",
     "collapsed": false,
     "input": [
      "nc"
     ],
     "language": "python",
     "metadata": {},
     "outputs": [
      {
       "html": [
        "<div style=\"max-height:1000px;max-width:1500px;overflow:auto;\">\n",
        "<table border=\"1\" class=\"dataframe\">\n",
        "  <thead>\n",
        "    <tr style=\"text-align: right;\">\n",
        "      <th></th>\n",
        "      <th># children</th>\n",
        "      <th># genes</th>\n",
        "      <th># parents</th>\n",
        "      <th>name</th>\n",
        "    </tr>\n",
        "  </thead>\n",
        "  <tbody>\n",
        "    <tr>\n",
        "      <th>GO:0000790</th>\n",
        "      <td> 5</td>\n",
        "      <td> 129</td>\n",
        "      <td> 2</td>\n",
        "      <td>                  nuclear chromatin</td>\n",
        "    </tr>\n",
        "    <tr>\n",
        "      <th>GO:0000792</th>\n",
        "      <td> 6</td>\n",
        "      <td>  59</td>\n",
        "      <td> 1</td>\n",
        "      <td>                    heterochromatin</td>\n",
        "    </tr>\n",
        "    <tr>\n",
        "      <th>GO:0000791</th>\n",
        "      <td> 1</td>\n",
        "      <td>  19</td>\n",
        "      <td> 1</td>\n",
        "      <td>                        euchromatin</td>\n",
        "    </tr>\n",
        "    <tr>\n",
        "      <th>GO:0035327</th>\n",
        "      <td> 0</td>\n",
        "      <td>  11</td>\n",
        "      <td> 1</td>\n",
        "      <td> transcriptionally active chromatin</td>\n",
        "    </tr>\n",
        "    <tr>\n",
        "      <th>GO:0000789</th>\n",
        "      <td> 0</td>\n",
        "      <td>   1</td>\n",
        "      <td> 2</td>\n",
        "      <td>              cytoplasmic chromatin</td>\n",
        "    </tr>\n",
        "  </tbody>\n",
        "</table>\n",
        "<p>5 rows \u00d7 4 columns</p>\n",
        "</div>"
       ],
       "metadata": {},
       "output_type": "pyout",
       "prompt_number": 692,
       "text": [
        "           # children # genes # parents                                name\n",
        "GO:0000790          5     129         2                   nuclear chromatin\n",
        "GO:0000792          6      59         1                     heterochromatin\n",
        "GO:0000791          1      19         1                         euchromatin\n",
        "GO:0035327          0      11         1  transcriptionally active chromatin\n",
        "GO:0000789          0       1         2               cytoplasmic chromatin\n",
        "\n",
        "[5 rows x 4 columns]"
       ]
      }
     ],
     "prompt_number": 692
    },
    {
     "cell_type": "code",
     "collapsed": false,
     "input": [],
     "language": "python",
     "metadata": {},
     "outputs": []
    }
   ],
   "metadata": {}
  }
 ]
}