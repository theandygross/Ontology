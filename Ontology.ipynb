{
 "metadata": {
  "name": ""
 },
 "nbformat": 3,
 "nbformat_minor": 0,
 "worksheets": [
  {
   "cells": [
    {
     "cell_type": "heading",
     "level": 1,
     "metadata": {},
     "source": [
      "Ontology Data Structure Development"
     ]
    },
    {
     "cell_type": "code",
     "collapsed": false,
     "input": [
      "%pylab inline"
     ],
     "language": "python",
     "metadata": {},
     "outputs": [
      {
       "output_type": "stream",
       "stream": "stdout",
       "text": [
        "Populating the interactive namespace from numpy and matplotlib\n"
       ]
      }
     ],
     "prompt_number": 1
    },
    {
     "cell_type": "code",
     "collapsed": false,
     "input": [
      "import pandas as pd"
     ],
     "language": "python",
     "metadata": {},
     "outputs": [],
     "prompt_number": 2
    },
    {
     "cell_type": "code",
     "collapsed": false,
     "input": [
      "go_file = 'Data/gene_ontology.1_2.obo.txt'"
     ],
     "language": "python",
     "metadata": {},
     "outputs": [],
     "prompt_number": 3
    },
    {
     "cell_type": "code",
     "collapsed": false,
     "input": [
      "go = open(go_file, 'rb').readlines()\n",
      "go = map(str.strip, go)"
     ],
     "language": "python",
     "metadata": {},
     "outputs": [],
     "prompt_number": 4
    },
    {
     "cell_type": "code",
     "collapsed": false,
     "input": [
      "term_starts = array([i for i,l in enumerate(go) if l == '[Term]'])\n",
      "new_lines = array([i for i,l in enumerate(go) if l == ''])"
     ],
     "language": "python",
     "metadata": {},
     "outputs": [],
     "prompt_number": 5
    },
    {
     "cell_type": "code",
     "collapsed": false,
     "input": [
      "terms = []\n",
      "for t in term_starts:\n",
      "    term_end = min(new_lines[new_lines > t])\n",
      "    term_body = go[t+1:term_end]\n",
      "    split = lambda l: l.split(': ', 1)\n",
      "    term_dict = {l[0]: l[1] for l in map(split, term_body)}\n",
      "    terms += [term_dict]\n",
      "terms = pd.DataFrame(terms)\n",
      "terms = terms.set_index(['id','name'], drop=False)\n",
      "terms = terms[(terms.is_obsolete != 'true')]"
     ],
     "language": "python",
     "metadata": {},
     "outputs": [],
     "prompt_number": 6
    },
    {
     "cell_type": "code",
     "collapsed": false,
     "input": [
      "roots = terms[terms.name == terms.namespace]"
     ],
     "language": "python",
     "metadata": {},
     "outputs": [],
     "prompt_number": 7
    },
    {
     "cell_type": "code",
     "collapsed": false,
     "input": [
      "from scipy import stats\n",
      "\n",
      "def fisher_exact_test(hit_vec, response_vec, alternative='two-sided'):\n",
      "    \"\"\"\n",
      "    Wrapper to do a fischer's exact test on pandas Series\n",
      "    ------------------------------------------------\n",
      "    hit_vec: Series of labels (boolean, or (0,1))\n",
      "    response_vec: Series of measurements (boolean, or (0,1))\n",
      "    \"\"\"\n",
      "    cont_table = pd.crosstab(hit_vec, response_vec)\n",
      "    if cont_table.shape != (2, 2):\n",
      "        return pd.Series(index=['odds_ratio', 'p'])\n",
      "    return pd.Series(stats.fisher_exact(cont_table, alternative), index=['odds_ratio', 'p'])\n",
      "\n",
      "def chi2_cont_test(hit_vec, response_vec):\n",
      "    \"\"\"\n",
      "    Wrapper to do a fischer's exact test on pandas Series\n",
      "    ------------------------------------------------\n",
      "    hit_vec: Series of labels (boolean, or (0,1))\n",
      "    response_vec: Series of measurements (boolean, or (0,1))\n",
      "    \"\"\"\n",
      "    cont_table = pd.crosstab(hit_vec, response_vec)\n",
      "    return pd.Series(stats.chi2_contingency(cont_table)[:3], index=['chi2', 'p', 'dof'])"
     ],
     "language": "python",
     "metadata": {},
     "outputs": [],
     "prompt_number": 8
    },
    {
     "cell_type": "code",
     "collapsed": false,
     "input": [
      "class Node(object):\n",
      "    def __init__(self, node_id, name, attributes={}):\n",
      "        self.id = node_id\n",
      "        self.name = name\n",
      "        self.attributes = attributes\n",
      "        self.ontology = None\n",
      "        \n",
      "    def get_parents(self):\n",
      "        return self.ontology.get_parents(self)\n",
      "    \n",
      "    def get_children(self):\n",
      "        if not hasattr(self, 'children'):\n",
      "            self.children = self.ontology.get_children(self)\n",
      "        return self.children\n",
      "            \n",
      "    \n",
      "    def get_descendents(self):\n",
      "        if not hasattr(self, 'descendents'):\n",
      "            children = self.get_children()\n",
      "            if len(children) == 0:\n",
      "                return pd.Series({self.id: self})\n",
      "            else:\n",
      "                descendents = pd.concat([c.get_descendents() for c in children])\n",
      "                descendents[self.id] = self\n",
      "            self.descendents = descendents\n",
      "        return self.descendents\n",
      "    \n",
      "    def get_genes(self):\n",
      "        if not hasattr(self, 'genes'):\n",
      "             self.genes = self.ontology.get_genes(self)\n",
      "        return self.genes\n",
      "    \n",
      "    def get_enrichment(self, hit_vec):\n",
      "        return self.ontology.get_enrichment(self, hit_vec)\n",
      "        \n",
      "    def __repr__(self):\n",
      "        return self.name\n",
      "    \n",
      "    def __eq__(self, other): \n",
      "        return self.id == other.id\n",
      "    \n",
      "class Edge(object):\n",
      "    def __init__(self, parent, child):\n",
      "        self.parent = parent\n",
      "        self.child = child\n",
      "        \n",
      "    def __repr__(self):\n",
      "        s = '''{} -->  {}'''.format(self.parent.name, self.child.name)\n",
      "        return s\n",
      "    \n",
      "class Ontology(object):\n",
      "    '''\n",
      "    Class for storing meta-information about an ontology.\n",
      "    '''\n",
      "    def __init__(self, nodes, edges, gene_map):\n",
      "        self.nodes = nodes\n",
      "        self.edges = edges\n",
      "        self.gene_map = gene_map\n",
      "        self.background = gene_map.Gene.unique()\n",
      "        \n",
      "        for node in nodes:\n",
      "            node.ontology = self\n",
      "        \n",
      "    def get_parents(self, node):\n",
      "        if node.id in self.edges.index.get_level_values(1):\n",
      "            return pd.Series({e.parent.id: e.parent for e in self.edges[:,node.id]})\n",
      "        else:\n",
      "            return pd.Series()\n",
      "    \n",
      "    def get_children(self, node):\n",
      "        if node.id in self.edges.index.get_level_values(0):\n",
      "            return pd.Series({e.child.id: e.child for e in self.edges[node.id]})\n",
      "        else:\n",
      "            return pd.Series()\n",
      "        \n",
      "    def get_genes(self, node):\n",
      "        descendents = node.get_descendents()\n",
      "        genes = self.gene_map[self.gene_map.GO.isin(descendents.index)].Gene.unique()\n",
      "        return genes\n",
      "        \n",
      "    def get_enrichment(self, node, hit_vec):    \n",
      "        background = hit_vec.index.intersection(self.background)\n",
      "        hit_vec = hit_vec.ix[background]\n",
      "        \n",
      "        genes = node.get_genes() \n",
      "        node_vec = pd.Series(1, index=genes).ix[background].fillna(0)\n",
      "        \n",
      "        stats = pd.Series({'N': len(background), 'B': len(genes), 'n': sum(hit_vec),\n",
      "                           'b': sum((hit_vec > 0) & (node_vec > 0))})\n",
      "        \n",
      "        test = chi2_cont_test(node_vec, hit_vec)\n",
      "        r = pd.concat([stats, test], keys=['stats','test'])\n",
      "        return r"
     ],
     "language": "python",
     "metadata": {},
     "outputs": [],
     "prompt_number": 72
    },
    {
     "cell_type": "code",
     "collapsed": false,
     "input": [
      "gene_map = pd.read_table('Data/gene_association.goa_human', skiprows=31, low_memory=False, header=None)\n",
      "gene_map = gene_map[[2,4]].drop_duplicates()\n",
      "gene_map.columns = ['Gene','GO']"
     ],
     "language": "python",
     "metadata": {},
     "outputs": [],
     "prompt_number": 73
    },
    {
     "cell_type": "code",
     "collapsed": false,
     "input": [
      "nodes = pd.Series({t['id']: Node(t['id'], t['name'], t) for n,t in terms.iterrows()})\n",
      "edges = [Edge(nodes[v.split()[0]], nodes[i[0]]) for i,v in terms.is_a.iteritems() if pd.notnull(v)]\n",
      "edges = pd.Series({(e.parent.id, e.child.id): e for e in edges})\n",
      "edges.index = pd.MultiIndex.from_tuples(edges.index)\n",
      "ontology = Ontology(nodes, edges, gene_map)"
     ],
     "language": "python",
     "metadata": {},
     "outputs": [],
     "prompt_number": 74
    },
    {
     "cell_type": "code",
     "collapsed": false,
     "input": [
      "#nn = pd.Series({i:len(n.get_genes()) for i,n in nodes.iteritems()})\n",
      "#nn.to_csv('Data/term_gene_counts.csv')"
     ],
     "language": "python",
     "metadata": {},
     "outputs": [],
     "prompt_number": 69
    },
    {
     "cell_type": "code",
     "collapsed": false,
     "input": [
      "g = pd.read_table('/cellar/users/agross/Downloads/tmp.txt', header=None, squeeze=True)\n",
      "g = pd.Series(1, g[:500]).ix[g].fillna(0)"
     ],
     "language": "python",
     "metadata": {},
     "outputs": [],
     "prompt_number": 80
    },
    {
     "cell_type": "code",
     "collapsed": false,
     "input": [
      "%%time\n",
      "node = nodes['GO:0000278']\n",
      "r = node.get_enrichment(g)"
     ],
     "language": "python",
     "metadata": {},
     "outputs": [
      {
       "output_type": "stream",
       "stream": "stdout",
       "text": [
        "CPU times: user 36 ms, sys: 4 ms, total: 40 ms\n",
        "Wall time: 39 ms\n"
       ]
      }
     ],
     "prompt_number": 81
    },
    {
     "cell_type": "markdown",
     "metadata": {},
     "source": [
      "Takes ~9 min first run."
     ]
    },
    {
     "cell_type": "code",
     "collapsed": false,
     "input": [
      "%time nn = pd.Series({i:len(n.get_genes()) for i,n in nodes.iteritems()})"
     ],
     "language": "python",
     "metadata": {},
     "outputs": [
      {
       "output_type": "stream",
       "stream": "stdout",
       "text": [
        "CPU times: user 8min 51s, sys: 500 ms, total: 8min 52s\n",
        "Wall time: 8min 52s\n"
       ]
      }
     ],
     "prompt_number": 82
    },
    {
     "cell_type": "code",
     "collapsed": false,
     "input": [
      "nodes = ontology.nodes.ix[nn[(nn > 100)].index]\n",
      "len(nodes)"
     ],
     "language": "python",
     "metadata": {},
     "outputs": [
      {
       "metadata": {},
       "output_type": "pyout",
       "prompt_number": 251,
       "text": [
        "921"
       ]
      }
     ],
     "prompt_number": 251
    },
    {
     "cell_type": "code",
     "collapsed": false,
     "input": [
      "redundant = pd.Series({n.id: set(n.get_parents().iloc[0].genes) == set(n.genes)\n",
      "                       for n in nodes if len(n.get_parents() > 0)})"
     ],
     "language": "python",
     "metadata": {},
     "outputs": [],
     "prompt_number": 252
    },
    {
     "cell_type": "code",
     "collapsed": false,
     "input": [
      "redundant.value_counts()"
     ],
     "language": "python",
     "metadata": {},
     "outputs": [
      {
       "metadata": {},
       "output_type": "pyout",
       "prompt_number": 253,
       "text": [
        "False    896\n",
        "True      22\n",
        "dtype: int64"
       ]
      }
     ],
     "prompt_number": 253
    },
    {
     "cell_type": "code",
     "collapsed": false,
     "input": [
      "len(nodes)"
     ],
     "language": "python",
     "metadata": {},
     "outputs": [
      {
       "metadata": {},
       "output_type": "pyout",
       "prompt_number": 254,
       "text": [
        "921"
       ]
      }
     ],
     "prompt_number": 254
    },
    {
     "cell_type": "code",
     "collapsed": false,
     "input": [
      "%%time\n",
      "r = pd.DataFrame({n.id: get_enrichment(ontology, n, g) for n in nodes}).T"
     ],
     "language": "python",
     "metadata": {},
     "outputs": [
      {
       "output_type": "stream",
       "stream": "stdout",
       "text": [
        "CPU times: user 18.3 s, sys: 44 ms, total: 18.3 s\n",
        "Wall time: 18.4 s\n"
       ]
      }
     ],
     "prompt_number": 255
    },
    {
     "cell_type": "code",
     "collapsed": false,
     "input": [
      "ann = pd.Series({i: nodes.ix[i].name for i in r.index})\n",
      "r['name'] = ann\n",
      "r = r.sort([('test','p')])\n",
      "r.head()"
     ],
     "language": "python",
     "metadata": {},
     "outputs": [
      {
       "html": [
        "<div style=\"max-height:1000px;max-width:1500px;overflow:auto;\">\n",
        "<table border=\"1\" class=\"dataframe\">\n",
        "  <thead>\n",
        "    <tr>\n",
        "      <th></th>\n",
        "      <th colspan=\"4\" halign=\"left\">stats</th>\n",
        "      <th colspan=\"3\" halign=\"left\">test</th>\n",
        "      <th>name</th>\n",
        "    </tr>\n",
        "    <tr>\n",
        "      <th></th>\n",
        "      <th>B</th>\n",
        "      <th>N</th>\n",
        "      <th>b</th>\n",
        "      <th>n</th>\n",
        "      <th>chi2</th>\n",
        "      <th>p</th>\n",
        "      <th>dof</th>\n",
        "      <th></th>\n",
        "    </tr>\n",
        "  </thead>\n",
        "  <tbody>\n",
        "    <tr>\n",
        "      <th>GO:0000278</th>\n",
        "      <td> 406</td>\n",
        "      <td> 16722</td>\n",
        "      <td> 76</td>\n",
        "      <td> 444</td>\n",
        "      <td> 432.492184</td>\n",
        "      <td> 4.660881e-96</td>\n",
        "      <td> 1</td>\n",
        "      <td> mitotic cell cycle</td>\n",
        "    </tr>\n",
        "    <tr>\n",
        "      <th>GO:0007049</th>\n",
        "      <td> 602</td>\n",
        "      <td> 16722</td>\n",
        "      <td> 86</td>\n",
        "      <td> 444</td>\n",
        "      <td> 344.553683</td>\n",
        "      <td> 6.503969e-77</td>\n",
        "      <td> 1</td>\n",
        "      <td>         cell cycle</td>\n",
        "    </tr>\n",
        "    <tr>\n",
        "      <th>GO:0022402</th>\n",
        "      <td> 516</td>\n",
        "      <td> 16722</td>\n",
        "      <td> 76</td>\n",
        "      <td> 444</td>\n",
        "      <td> 318.535173</td>\n",
        "      <td> 3.019775e-71</td>\n",
        "      <td> 1</td>\n",
        "      <td> cell cycle process</td>\n",
        "    </tr>\n",
        "    <tr>\n",
        "      <th>GO:0007067</th>\n",
        "      <td> 245</td>\n",
        "      <td> 16722</td>\n",
        "      <td> 49</td>\n",
        "      <td> 444</td>\n",
        "      <td> 304.836749</td>\n",
        "      <td> 2.910947e-68</td>\n",
        "      <td> 1</td>\n",
        "      <td>            mitosis</td>\n",
        "    </tr>\n",
        "    <tr>\n",
        "      <th>GO:0044427</th>\n",
        "      <td> 342</td>\n",
        "      <td> 16722</td>\n",
        "      <td> 51</td>\n",
        "      <td> 444</td>\n",
        "      <td> 214.674799</td>\n",
        "      <td> 1.312228e-48</td>\n",
        "      <td> 1</td>\n",
        "      <td>   chromosomal part</td>\n",
        "    </tr>\n",
        "  </tbody>\n",
        "</table>\n",
        "<p>5 rows \u00d7 8 columns</p>\n",
        "</div>"
       ],
       "metadata": {},
       "output_type": "pyout",
       "prompt_number": 256,
       "text": [
        "            stats                        test                     \\\n",
        "                B      N   b    n        chi2             p  dof   \n",
        "GO:0000278    406  16722  76  444  432.492184  4.660881e-96    1   \n",
        "GO:0007049    602  16722  86  444  344.553683  6.503969e-77    1   \n",
        "GO:0022402    516  16722  76  444  318.535173  3.019775e-71    1   \n",
        "GO:0007067    245  16722  49  444  304.836749  2.910947e-68    1   \n",
        "GO:0044427    342  16722  51  444  214.674799  1.312228e-48    1   \n",
        "\n",
        "                          name  \n",
        "                                \n",
        "GO:0000278  mitotic cell cycle  \n",
        "GO:0007049          cell cycle  \n",
        "GO:0022402  cell cycle process  \n",
        "GO:0007067             mitosis  \n",
        "GO:0044427    chromosomal part  \n",
        "\n",
        "[5 rows x 8 columns]"
       ]
      }
     ],
     "prompt_number": 256
    },
    {
     "cell_type": "code",
     "collapsed": false,
     "input": [
      "ontology.nodes.ix['GO:0000278'].get_parents()"
     ],
     "language": "python",
     "metadata": {},
     "outputs": [
      {
       "metadata": {},
       "output_type": "pyout",
       "prompt_number": 257,
       "text": [
        "GO:0007049    cell cycle\n",
        "dtype: object"
       ]
      }
     ],
     "prompt_number": 257
    },
    {
     "cell_type": "code",
     "collapsed": false,
     "input": [
      "get_enrichment(ontology, ontology.nodes.ix['GO:0000278'], g)"
     ],
     "language": "python",
     "metadata": {},
     "outputs": [
      {
       "metadata": {},
       "output_type": "pyout",
       "prompt_number": 258,
       "text": [
        "stats  B       4.060000e+02\n",
        "       N       1.672200e+04\n",
        "       b       7.600000e+01\n",
        "       n       4.440000e+02\n",
        "test   chi2    4.324922e+02\n",
        "       p       4.660881e-96\n",
        "       dof     1.000000e+00\n",
        "dtype: float64"
       ]
      }
     ],
     "prompt_number": 258
    },
    {
     "cell_type": "code",
     "collapsed": false,
     "input": [
      "def get_enrichment_context(self, node, hit_vec):    \n",
      "    parent = node.get_parents().iloc[0]\n",
      "    background = hit_vec.index.intersection(parent.genes)\n",
      "    hit_vec = hit_vec.ix[background]\n",
      "    \n",
      "    genes = node.get_genes() \n",
      "    node_vec = pd.Series(1, index=genes).ix[background].fillna(0)\n",
      "    \n",
      "    stats = pd.Series({'N': len(background), 'B': len(genes), 'n': sum(hit_vec),\n",
      "                       'b': sum((hit_vec > 0) & (node_vec > 0))})\n",
      "    \n",
      "    test = chi2_cont_test(node_vec, hit_vec)\n",
      "    r = pd.concat([stats, test], keys=['stats','test'])\n",
      "    return r"
     ],
     "language": "python",
     "metadata": {},
     "outputs": [],
     "prompt_number": 259
    },
    {
     "cell_type": "code",
     "collapsed": false,
     "input": [
      "get_enrichment_context(ontology, ontology.nodes.ix['GO:0007049'], g)"
     ],
     "language": "python",
     "metadata": {},
     "outputs": [
      {
       "metadata": {},
       "output_type": "pyout",
       "prompt_number": 260,
       "text": [
        "stats  B       6.020000e+02\n",
        "       N       4.939000e+03\n",
        "       b       8.600000e+01\n",
        "       n       2.400000e+02\n",
        "test   chi2    1.415030e+02\n",
        "       p       1.249000e-32\n",
        "       dof     1.000000e+00\n",
        "dtype: float64"
       ]
      }
     ],
     "prompt_number": 260
    },
    {
     "cell_type": "code",
     "collapsed": false,
     "input": [
      "ontology.nodes.ix['GO:0007049'].get_parents()"
     ],
     "language": "python",
     "metadata": {},
     "outputs": [
      {
       "metadata": {},
       "output_type": "pyout",
       "prompt_number": 261,
       "text": [
        "GO:0044763    single-organism cellular process\n",
        "dtype: object"
       ]
      }
     ],
     "prompt_number": 261
    },
    {
     "cell_type": "code",
     "collapsed": false,
     "input": [
      "r2 = pd.DataFrame({n.id: get_enrichment_context(ontology, n, g) for n in ontology.nodes.ix[r.index[:20]]}).T"
     ],
     "language": "python",
     "metadata": {},
     "outputs": [],
     "prompt_number": 262
    },
    {
     "cell_type": "code",
     "collapsed": false,
     "input": [
      "pd.concat([r,r2], axis=1, keys=['full','context']).sort([('full','test','p')]).head()"
     ],
     "language": "python",
     "metadata": {},
     "outputs": [
      {
       "html": [
        "<div style=\"max-height:1000px;max-width:1500px;overflow:auto;\">\n",
        "<table border=\"1\" class=\"dataframe\">\n",
        "  <thead>\n",
        "    <tr>\n",
        "      <th></th>\n",
        "      <th colspan=\"8\" halign=\"left\">full</th>\n",
        "      <th colspan=\"7\" halign=\"left\">context</th>\n",
        "    </tr>\n",
        "    <tr>\n",
        "      <th></th>\n",
        "      <th colspan=\"4\" halign=\"left\">stats</th>\n",
        "      <th colspan=\"3\" halign=\"left\">test</th>\n",
        "      <th>name</th>\n",
        "      <th colspan=\"4\" halign=\"left\">stats</th>\n",
        "      <th colspan=\"3\" halign=\"left\">test</th>\n",
        "    </tr>\n",
        "    <tr>\n",
        "      <th></th>\n",
        "      <th>B</th>\n",
        "      <th>N</th>\n",
        "      <th>b</th>\n",
        "      <th>n</th>\n",
        "      <th>chi2</th>\n",
        "      <th>p</th>\n",
        "      <th>dof</th>\n",
        "      <th></th>\n",
        "      <th>B</th>\n",
        "      <th>N</th>\n",
        "      <th>b</th>\n",
        "      <th>n</th>\n",
        "      <th>chi2</th>\n",
        "      <th>p</th>\n",
        "      <th>dof</th>\n",
        "    </tr>\n",
        "  </thead>\n",
        "  <tbody>\n",
        "    <tr>\n",
        "      <th>GO:0000278</th>\n",
        "      <td> 406</td>\n",
        "      <td> 16722</td>\n",
        "      <td> 76</td>\n",
        "      <td> 444</td>\n",
        "      <td> 432.492184</td>\n",
        "      <td> 4.660881e-96</td>\n",
        "      <td> 1</td>\n",
        "      <td> mitotic cell cycle</td>\n",
        "      <td> 406</td>\n",
        "      <td>  574</td>\n",
        "      <td> 76</td>\n",
        "      <td>  86</td>\n",
        "      <td>  18.563073</td>\n",
        "      <td> 1.643740e-05</td>\n",
        "      <td> 1</td>\n",
        "    </tr>\n",
        "    <tr>\n",
        "      <th>GO:0007049</th>\n",
        "      <td> 602</td>\n",
        "      <td> 16722</td>\n",
        "      <td> 86</td>\n",
        "      <td> 444</td>\n",
        "      <td> 344.553683</td>\n",
        "      <td> 6.503969e-77</td>\n",
        "      <td> 1</td>\n",
        "      <td>         cell cycle</td>\n",
        "      <td> 602</td>\n",
        "      <td> 4939</td>\n",
        "      <td> 86</td>\n",
        "      <td> 240</td>\n",
        "      <td> 141.502964</td>\n",
        "      <td> 1.249000e-32</td>\n",
        "      <td> 1</td>\n",
        "    </tr>\n",
        "    <tr>\n",
        "      <th>GO:0022402</th>\n",
        "      <td> 516</td>\n",
        "      <td> 16722</td>\n",
        "      <td> 76</td>\n",
        "      <td> 444</td>\n",
        "      <td> 318.535173</td>\n",
        "      <td> 3.019775e-71</td>\n",
        "      <td> 1</td>\n",
        "      <td> cell cycle process</td>\n",
        "      <td> 516</td>\n",
        "      <td> 4939</td>\n",
        "      <td> 76</td>\n",
        "      <td> 240</td>\n",
        "      <td> 131.417305</td>\n",
        "      <td> 2.006618e-30</td>\n",
        "      <td> 1</td>\n",
        "    </tr>\n",
        "    <tr>\n",
        "      <th>GO:0007067</th>\n",
        "      <td> 245</td>\n",
        "      <td> 16722</td>\n",
        "      <td> 49</td>\n",
        "      <td> 444</td>\n",
        "      <td> 304.836749</td>\n",
        "      <td> 2.910947e-68</td>\n",
        "      <td> 1</td>\n",
        "      <td>            mitosis</td>\n",
        "      <td> 245</td>\n",
        "      <td>  939</td>\n",
        "      <td> 49</td>\n",
        "      <td>  85</td>\n",
        "      <td>  53.083683</td>\n",
        "      <td> 3.196367e-13</td>\n",
        "      <td> 1</td>\n",
        "    </tr>\n",
        "    <tr>\n",
        "      <th>GO:0044427</th>\n",
        "      <td> 342</td>\n",
        "      <td> 16722</td>\n",
        "      <td> 51</td>\n",
        "      <td> 444</td>\n",
        "      <td> 214.674799</td>\n",
        "      <td> 1.312228e-48</td>\n",
        "      <td> 1</td>\n",
        "      <td>   chromosomal part</td>\n",
        "      <td> 342</td>\n",
        "      <td> 4940</td>\n",
        "      <td> 51</td>\n",
        "      <td> 199</td>\n",
        "      <td> 120.417791</td>\n",
        "      <td> 5.124709e-28</td>\n",
        "      <td> 1</td>\n",
        "    </tr>\n",
        "  </tbody>\n",
        "</table>\n",
        "<p>5 rows \u00d7 15 columns</p>\n",
        "</div>"
       ],
       "metadata": {},
       "output_type": "pyout",
       "prompt_number": 263,
       "text": [
        "             full                                                 \\\n",
        "            stats                        test                      \n",
        "                B      N   b    n        chi2             p  dof   \n",
        "GO:0000278    406  16722  76  444  432.492184  4.660881e-96    1   \n",
        "GO:0007049    602  16722  86  444  344.553683  6.503969e-77    1   \n",
        "GO:0022402    516  16722  76  444  318.535173  3.019775e-71    1   \n",
        "GO:0007067    245  16722  49  444  304.836749  2.910947e-68    1   \n",
        "GO:0044427    342  16722  51  444  214.674799  1.312228e-48    1   \n",
        "\n",
        "                          full  context                             \\\n",
        "                          name    stats                       test   \n",
        "                                      B     N   b    n        chi2   \n",
        "GO:0000278  mitotic cell cycle      406   574  76   86   18.563073   \n",
        "GO:0007049          cell cycle      602  4939  86  240  141.502964   \n",
        "GO:0022402  cell cycle process      516  4939  76  240  131.417305   \n",
        "GO:0007067             mitosis      245   939  49   85   53.083683   \n",
        "GO:0044427    chromosomal part      342  4940  51  199  120.417791   \n",
        "\n",
        "                               \n",
        "                               \n",
        "                       p  dof  \n",
        "GO:0000278  1.643740e-05    1  \n",
        "GO:0007049  1.249000e-32    1  \n",
        "GO:0022402  2.006618e-30    1  \n",
        "GO:0007067  3.196367e-13    1  \n",
        "GO:0044427  5.124709e-28    1  \n",
        "\n",
        "[5 rows x 15 columns]"
       ]
      }
     ],
     "prompt_number": 263
    },
    {
     "cell_type": "code",
     "collapsed": false,
     "input": [
      "nodes.ix['GO:0007049'].get_parents()"
     ],
     "language": "python",
     "metadata": {},
     "outputs": [
      {
       "metadata": {},
       "output_type": "pyout",
       "prompt_number": 270,
       "text": [
        "GO:0044763    single-organism cellular process\n",
        "dtype: object"
       ]
      }
     ],
     "prompt_number": 270
    },
    {
     "cell_type": "code",
     "collapsed": false,
     "input": [
      "c = nodes.ix['GO:0044427'].children\n",
      "c = pd.Series({i: n for i,n in c.iteritems() if len(n.genes) > 10})\n",
      "rp = pd.DataFrame({n.id: get_enrichment_context(ontology, n, g) for n in c if len(n.genes) > 0}).T\n",
      "rp['name']  = pd.Series({n.id: n.name for n in c})"
     ],
     "language": "python",
     "metadata": {},
     "outputs": [],
     "prompt_number": 305
    },
    {
     "cell_type": "code",
     "collapsed": false,
     "input": [
      "rp.sort([('test','p')])"
     ],
     "language": "python",
     "metadata": {},
     "outputs": [
      {
       "html": [
        "<div style=\"max-height:1000px;max-width:1500px;overflow:auto;\">\n",
        "<table border=\"1\" class=\"dataframe\">\n",
        "  <thead>\n",
        "    <tr>\n",
        "      <th></th>\n",
        "      <th colspan=\"4\" halign=\"left\">stats</th>\n",
        "      <th colspan=\"3\" halign=\"left\">test</th>\n",
        "      <th>name</th>\n",
        "    </tr>\n",
        "    <tr>\n",
        "      <th></th>\n",
        "      <th>B</th>\n",
        "      <th>N</th>\n",
        "      <th>b</th>\n",
        "      <th>n</th>\n",
        "      <th>chi2</th>\n",
        "      <th>p</th>\n",
        "      <th>dof</th>\n",
        "      <th></th>\n",
        "    </tr>\n",
        "  </thead>\n",
        "  <tbody>\n",
        "    <tr>\n",
        "      <th>GO:0000775</th>\n",
        "      <td>  56</td>\n",
        "      <td> 323</td>\n",
        "      <td> 18</td>\n",
        "      <td> 51</td>\n",
        "      <td> 13.466788</td>\n",
        "      <td> 0.000243</td>\n",
        "      <td> 1</td>\n",
        "      <td> chromosome, centromeric region</td>\n",
        "    </tr>\n",
        "    <tr>\n",
        "      <th>GO:0000785</th>\n",
        "      <td> 148</td>\n",
        "      <td> 323</td>\n",
        "      <td> 12</td>\n",
        "      <td> 51</td>\n",
        "      <td>  9.023159</td>\n",
        "      <td> 0.002666</td>\n",
        "      <td> 1</td>\n",
        "      <td>                      chromatin</td>\n",
        "    </tr>\n",
        "    <tr>\n",
        "      <th>GO:0000776</th>\n",
        "      <td>  96</td>\n",
        "      <td> 323</td>\n",
        "      <td> 23</td>\n",
        "      <td> 51</td>\n",
        "      <td>  7.608322</td>\n",
        "      <td> 0.005810</td>\n",
        "      <td> 1</td>\n",
        "      <td>                    kinetochore</td>\n",
        "    </tr>\n",
        "    <tr>\n",
        "      <th>GO:0005657</th>\n",
        "      <td>  13</td>\n",
        "      <td> 323</td>\n",
        "      <td>  5</td>\n",
        "      <td> 51</td>\n",
        "      <td>  3.610457</td>\n",
        "      <td> 0.057417</td>\n",
        "      <td> 1</td>\n",
        "      <td>               replication fork</td>\n",
        "    </tr>\n",
        "    <tr>\n",
        "      <th>GO:0000781</th>\n",
        "      <td>  37</td>\n",
        "      <td> 323</td>\n",
        "      <td>  3</td>\n",
        "      <td> 51</td>\n",
        "      <td>  1.259255</td>\n",
        "      <td> 0.261792</td>\n",
        "      <td> 1</td>\n",
        "      <td>   chromosome, telomeric region</td>\n",
        "    </tr>\n",
        "    <tr>\n",
        "      <th>GO:0010369</th>\n",
        "      <td>  12</td>\n",
        "      <td> 323</td>\n",
        "      <td>  3</td>\n",
        "      <td> 51</td>\n",
        "      <td>  0.238460</td>\n",
        "      <td> 0.625321</td>\n",
        "      <td> 1</td>\n",
        "      <td>                   chromocenter</td>\n",
        "    </tr>\n",
        "    <tr>\n",
        "      <th>GO:0035861</th>\n",
        "      <td>  13</td>\n",
        "      <td> 323</td>\n",
        "      <td>  1</td>\n",
        "      <td> 51</td>\n",
        "      <td>  0.184092</td>\n",
        "      <td> 0.667880</td>\n",
        "      <td> 1</td>\n",
        "      <td>    site of double-strand break</td>\n",
        "    </tr>\n",
        "    <tr>\n",
        "      <th>GO:0008278</th>\n",
        "      <td>  12</td>\n",
        "      <td> 323</td>\n",
        "      <td>  2</td>\n",
        "      <td> 51</td>\n",
        "      <td>  0.101424</td>\n",
        "      <td> 0.750127</td>\n",
        "      <td> 1</td>\n",
        "      <td>                cohesin complex</td>\n",
        "    </tr>\n",
        "  </tbody>\n",
        "</table>\n",
        "<p>8 rows \u00d7 8 columns</p>\n",
        "</div>"
       ],
       "metadata": {},
       "output_type": "pyout",
       "prompt_number": 306,
       "text": [
        "            stats                    test                 \\\n",
        "                B    N   b   n       chi2         p  dof   \n",
        "GO:0000775     56  323  18  51  13.466788  0.000243    1   \n",
        "GO:0000785    148  323  12  51   9.023159  0.002666    1   \n",
        "GO:0000776     96  323  23  51   7.608322  0.005810    1   \n",
        "GO:0005657     13  323   5  51   3.610457  0.057417    1   \n",
        "GO:0000781     37  323   3  51   1.259255  0.261792    1   \n",
        "GO:0010369     12  323   3  51   0.238460  0.625321    1   \n",
        "GO:0035861     13  323   1  51   0.184092  0.667880    1   \n",
        "GO:0008278     12  323   2  51   0.101424  0.750127    1   \n",
        "\n",
        "                                      name  \n",
        "                                            \n",
        "GO:0000775  chromosome, centromeric region  \n",
        "GO:0000785                       chromatin  \n",
        "GO:0000776                     kinetochore  \n",
        "GO:0005657                replication fork  \n",
        "GO:0000781    chromosome, telomeric region  \n",
        "GO:0010369                    chromocenter  \n",
        "GO:0035861     site of double-strand break  \n",
        "GO:0008278                 cohesin complex  \n",
        "\n",
        "[8 rows x 8 columns]"
       ]
      }
     ],
     "prompt_number": 306
    },
    {
     "cell_type": "code",
     "collapsed": false,
     "input": [
      "c = nodes.ix['GO:0000278'].get_parents().iloc[0].descendents\n",
      "rp = pd.DataFrame({n.id: get_enrichment_context(ontology, n, g) for n in c if len(n.genes) > 0}).T\n",
      "rp['name']  = pd.Series({n.id: n.name for n in c})"
     ],
     "language": "python",
     "metadata": {},
     "outputs": [],
     "prompt_number": 227
    }
   ],
   "metadata": {}
  }
 ]
}